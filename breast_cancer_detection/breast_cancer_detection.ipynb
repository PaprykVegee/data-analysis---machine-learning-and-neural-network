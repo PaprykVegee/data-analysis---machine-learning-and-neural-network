{
  "nbformat": 4,
  "nbformat_minor": 0,
  "metadata": {
    "colab": {
      "provenance": []
    },
    "kernelspec": {
      "name": "python3",
      "display_name": "Python 3"
    },
    "language_info": {
      "name": "python"
    }
  },
  "cells": [
    {
      "cell_type": "code",
      "execution_count": 249,
      "metadata": {
        "colab": {
          "base_uri": "https://localhost:8080/"
        },
        "id": "CExlYulrwAv7",
        "outputId": "47fb80f3-f524-4a77-8e6f-a8b46032c4b2"
      },
      "outputs": [
        {
          "output_type": "stream",
          "name": "stdout",
          "text": [
            "Wiklosc zbioru wejsciowego (569, 30)\n",
            "Wiklosc zbirou wyjsciowego (569,)\n",
            "Etykiety: ['malignant' 'benign']\n"
          ]
        }
      ],
      "source": [
        "# Ładowanie danych\n",
        "from sklearn.datasets import load_breast_cancer\n",
        "# dane zawierjaa wyniki badan guz peirsi (klasyfikacja binarna czy guz jest zlosliwy czy nie)\n",
        "cancer_data = load_breast_cancer()\n",
        "X = cancer_data.data\n",
        "Y = cancer_data.target\n",
        "print('Wiklosc zbioru wejsciowego', X.shape)\n",
        "print('Wiklosc zbirou wyjsciowego', Y.shape)\n",
        "print('Etykiety:', cancer_data.target_names)"
      ]
    },
    {
      "cell_type": "code",
      "source": [
        "n_pos = (Y==1).sum()\n",
        "n_neg = (Y==0).sum()\n",
        "print(f\"liscza wynikow pozytywnych: {n_pos}, liczba wynikow negatywnych: {n_neg}\")"
      ],
      "metadata": {
        "colab": {
          "base_uri": "https://localhost:8080/"
        },
        "id": "nFKsi8oExYcq",
        "outputId": "518e2333-c7cc-43af-ad58-5315f000cb8b"
      },
      "execution_count": 250,
      "outputs": [
        {
          "output_type": "stream",
          "name": "stdout",
          "text": [
            "liscza wynikow pozytywnych: 357, liczba wynikow negatywnych: 212\n"
          ]
        }
      ]
    },
    {
      "cell_type": "code",
      "source": [
        "# podzial elementow na podzbiory treningowe i testowe\n",
        "from sklearn.model_selection import train_test_split\n",
        "X_train, X_test, Y_train, Y_test = train_test_split(X, Y,\n",
        "                                                    test_size=0.2,\n",
        "                                                    random_state=42)\n",
        "\n",
        "len(X_train), len(X_test), len(Y_train), len(Y_test)"
      ],
      "metadata": {
        "colab": {
          "base_uri": "https://localhost:8080/"
        },
        "id": "3MvDHUSK46P5",
        "outputId": "4e06f670-48f9-4dd0-e24a-72f6a641abe2"
      },
      "execution_count": 251,
      "outputs": [
        {
          "output_type": "execute_result",
          "data": {
            "text/plain": [
              "(455, 114, 455, 114)"
            ]
          },
          "metadata": {},
          "execution_count": 251
        }
      ]
    },
    {
      "cell_type": "code",
      "source": [
        "# Uzycei maszyny wektorow nosnych\n",
        "from sklearn.svm import SVC\n",
        "clf = SVC(kernel='linear', C=1.0, random_state=42, probability=True)\n",
        "clf.fit(X_train, Y_train)"
      ],
      "metadata": {
        "colab": {
          "base_uri": "https://localhost:8080/",
          "height": 75
        },
        "id": "xyp3u8PZ5kDv",
        "outputId": "923fe4a0-4c20-43d5-c666-fff6ebf22a73"
      },
      "execution_count": 252,
      "outputs": [
        {
          "output_type": "execute_result",
          "data": {
            "text/plain": [
              "SVC(kernel='linear', probability=True, random_state=42)"
            ],
            "text/html": [
              "<style>#sk-container-id-15 {color: black;background-color: white;}#sk-container-id-15 pre{padding: 0;}#sk-container-id-15 div.sk-toggleable {background-color: white;}#sk-container-id-15 label.sk-toggleable__label {cursor: pointer;display: block;width: 100%;margin-bottom: 0;padding: 0.3em;box-sizing: border-box;text-align: center;}#sk-container-id-15 label.sk-toggleable__label-arrow:before {content: \"▸\";float: left;margin-right: 0.25em;color: #696969;}#sk-container-id-15 label.sk-toggleable__label-arrow:hover:before {color: black;}#sk-container-id-15 div.sk-estimator:hover label.sk-toggleable__label-arrow:before {color: black;}#sk-container-id-15 div.sk-toggleable__content {max-height: 0;max-width: 0;overflow: hidden;text-align: left;background-color: #f0f8ff;}#sk-container-id-15 div.sk-toggleable__content pre {margin: 0.2em;color: black;border-radius: 0.25em;background-color: #f0f8ff;}#sk-container-id-15 input.sk-toggleable__control:checked~div.sk-toggleable__content {max-height: 200px;max-width: 100%;overflow: auto;}#sk-container-id-15 input.sk-toggleable__control:checked~label.sk-toggleable__label-arrow:before {content: \"▾\";}#sk-container-id-15 div.sk-estimator input.sk-toggleable__control:checked~label.sk-toggleable__label {background-color: #d4ebff;}#sk-container-id-15 div.sk-label input.sk-toggleable__control:checked~label.sk-toggleable__label {background-color: #d4ebff;}#sk-container-id-15 input.sk-hidden--visually {border: 0;clip: rect(1px 1px 1px 1px);clip: rect(1px, 1px, 1px, 1px);height: 1px;margin: -1px;overflow: hidden;padding: 0;position: absolute;width: 1px;}#sk-container-id-15 div.sk-estimator {font-family: monospace;background-color: #f0f8ff;border: 1px dotted black;border-radius: 0.25em;box-sizing: border-box;margin-bottom: 0.5em;}#sk-container-id-15 div.sk-estimator:hover {background-color: #d4ebff;}#sk-container-id-15 div.sk-parallel-item::after {content: \"\";width: 100%;border-bottom: 1px solid gray;flex-grow: 1;}#sk-container-id-15 div.sk-label:hover label.sk-toggleable__label {background-color: #d4ebff;}#sk-container-id-15 div.sk-serial::before {content: \"\";position: absolute;border-left: 1px solid gray;box-sizing: border-box;top: 0;bottom: 0;left: 50%;z-index: 0;}#sk-container-id-15 div.sk-serial {display: flex;flex-direction: column;align-items: center;background-color: white;padding-right: 0.2em;padding-left: 0.2em;position: relative;}#sk-container-id-15 div.sk-item {position: relative;z-index: 1;}#sk-container-id-15 div.sk-parallel {display: flex;align-items: stretch;justify-content: center;background-color: white;position: relative;}#sk-container-id-15 div.sk-item::before, #sk-container-id-15 div.sk-parallel-item::before {content: \"\";position: absolute;border-left: 1px solid gray;box-sizing: border-box;top: 0;bottom: 0;left: 50%;z-index: -1;}#sk-container-id-15 div.sk-parallel-item {display: flex;flex-direction: column;z-index: 1;position: relative;background-color: white;}#sk-container-id-15 div.sk-parallel-item:first-child::after {align-self: flex-end;width: 50%;}#sk-container-id-15 div.sk-parallel-item:last-child::after {align-self: flex-start;width: 50%;}#sk-container-id-15 div.sk-parallel-item:only-child::after {width: 0;}#sk-container-id-15 div.sk-dashed-wrapped {border: 1px dashed gray;margin: 0 0.4em 0.5em 0.4em;box-sizing: border-box;padding-bottom: 0.4em;background-color: white;}#sk-container-id-15 div.sk-label label {font-family: monospace;font-weight: bold;display: inline-block;line-height: 1.2em;}#sk-container-id-15 div.sk-label-container {text-align: center;}#sk-container-id-15 div.sk-container {/* jupyter's `normalize.less` sets `[hidden] { display: none; }` but bootstrap.min.css set `[hidden] { display: none !important; }` so we also need the `!important` here to be able to override the default hidden behavior on the sphinx rendered scikit-learn.org. See: https://github.com/scikit-learn/scikit-learn/issues/21755 */display: inline-block !important;position: relative;}#sk-container-id-15 div.sk-text-repr-fallback {display: none;}</style><div id=\"sk-container-id-15\" class=\"sk-top-container\"><div class=\"sk-text-repr-fallback\"><pre>SVC(kernel=&#x27;linear&#x27;, probability=True, random_state=42)</pre><b>In a Jupyter environment, please rerun this cell to show the HTML representation or trust the notebook. <br />On GitHub, the HTML representation is unable to render, please try loading this page with nbviewer.org.</b></div><div class=\"sk-container\" hidden><div class=\"sk-item\"><div class=\"sk-estimator sk-toggleable\"><input class=\"sk-toggleable__control sk-hidden--visually\" id=\"sk-estimator-id-15\" type=\"checkbox\" checked><label for=\"sk-estimator-id-15\" class=\"sk-toggleable__label sk-toggleable__label-arrow\">SVC</label><div class=\"sk-toggleable__content\"><pre>SVC(kernel=&#x27;linear&#x27;, probability=True, random_state=42)</pre></div></div></div></div></div>"
            ]
          },
          "metadata": {},
          "execution_count": 252
        }
      ]
    },
    {
      "cell_type": "code",
      "source": [
        "# Sprawdzenie efektywnosci modelu\n",
        "acc = clf.score(X_test, Y_test)\n",
        "print(f\"Dokładnosc modelu: {acc*100:.2f}%\")"
      ],
      "metadata": {
        "colab": {
          "base_uri": "https://localhost:8080/"
        },
        "id": "JokG8hIw6Hd4",
        "outputId": "798b040b-260c-4720-b8b7-d6926eef3a8b"
      },
      "execution_count": 253,
      "outputs": [
        {
          "output_type": "stream",
          "name": "stdout",
          "text": [
            "Dokładnosc modelu: 95.61%\n"
          ]
        }
      ]
    },
    {
      "cell_type": "code",
      "source": [
        "# przewidywania\n",
        "predictions = clf.predict(X_test)\n",
        "predictions[:10]"
      ],
      "metadata": {
        "colab": {
          "base_uri": "https://localhost:8080/"
        },
        "id": "gqBIpqtLPo0l",
        "outputId": "c89789e7-9fd8-480d-f9ef-ddb2c60990b3"
      },
      "execution_count": 254,
      "outputs": [
        {
          "output_type": "execute_result",
          "data": {
            "text/plain": [
              "array([1, 0, 0, 1, 1, 0, 0, 0, 1, 1])"
            ]
          },
          "metadata": {},
          "execution_count": 254
        }
      ]
    },
    {
      "cell_type": "code",
      "source": [
        "# prawdopodobienstwo prby\n",
        "prediction_proba = clf.predict_proba(X_test)\n",
        "prediction_proba[:10]"
      ],
      "metadata": {
        "colab": {
          "base_uri": "https://localhost:8080/"
        },
        "id": "FVt9ZOknPuaY",
        "outputId": "4f0e1566-ce47-46e2-e3d2-9fee4a5f243e"
      },
      "execution_count": 255,
      "outputs": [
        {
          "output_type": "execute_result",
          "data": {
            "text/plain": [
              "array([[2.26207233e-01, 7.73792767e-01],\n",
              "       [9.99991000e-01, 9.00044270e-06],\n",
              "       [9.84374585e-01, 1.56254149e-02],\n",
              "       [5.63032549e-03, 9.94369675e-01],\n",
              "       [6.19574273e-06, 9.99993804e-01],\n",
              "       [9.99999831e-01, 1.69139902e-07],\n",
              "       [9.99999900e-01, 1.00000010e-07],\n",
              "       [9.35367199e-01, 6.46328012e-02],\n",
              "       [6.20761412e-02, 9.37923859e-01],\n",
              "       [2.55376930e-02, 9.74462307e-01]])"
            ]
          },
          "metadata": {},
          "execution_count": 255
        }
      ]
    },
    {
      "cell_type": "code",
      "source": [
        "# krzywa ROC from scrach\n",
        "import numpy as np\n",
        "\n",
        "def ROC_graph(Y_true, prediction_prob):\n",
        "  \"\"\"\n",
        "  Funckja rysuje wykres ROC na podsawie prawidzywich danych i uch predykcji\n",
        "  @param Y_true: prawdziwy wartosc uzyskana\n",
        "  @param predict: dane otzymane na podstwie wyszkolenego modelu (prawdopodobienstow przynalerznosci do danej klasy)\n",
        "  @return dwu elementowa liste zawierajaca false_pos_rate i true_pos_rate\n",
        "  \"\"\"\n",
        "  pos_prob = prediction_prob[:, 1]\n",
        "  thresholds = np.arange(0.0, 1.1, 0.05)\n",
        "  true_pos, false_pos = [0]*len(thresholds), [0]*len(thresholds)\n",
        "  for pred, y in zip(pos_prob, Y_true):\n",
        "    for i, threshold in enumerate(thresholds):\n",
        "      if pred >= threshold:\n",
        "        if y == 1:\n",
        "          true_pos[i] += 1\n",
        "        else:\n",
        "          false_pos[i] += 1\n",
        "      else:\n",
        "        break\n",
        "\n",
        "  n_pos_test = (Y_true == 1).sum()\n",
        "  n_neg_test = (Y_true == 0).sum()\n",
        "\n",
        "  true_pos_rate = [tp / n_pos_test for tp in true_pos]\n",
        "  false_pos_rate = [fp / n_neg_test for fp in false_pos]\n",
        "\n",
        "  return true_pos_rate, false_pos_rate"
      ],
      "metadata": {
        "id": "JtJcwEwpPhwy"
      },
      "execution_count": 256,
      "outputs": []
    },
    {
      "cell_type": "code",
      "source": [
        "true_pos_rate, false_pos_rate = ROC_graph(Y_true=Y_test,\n",
        "                                          prediction_prob=prediction_proba)"
      ],
      "metadata": {
        "id": "C_YVWBVGPld-"
      },
      "execution_count": 257,
      "outputs": []
    },
    {
      "cell_type": "code",
      "source": [
        "# rysiwanie wykresu ROC\n",
        "import matplotlib.pyplot as plt\n",
        "plt.figure()\n",
        "lw = 2\n",
        "plt.plot(false_pos_rate, true_pos_rate, color='darkorange', lw=lw)\n",
        "plt.plot([0, 1], [0, 1], color='navy', linestyle='--')\n",
        "plt.xlabel(\"Odsetek przypadow falszywie pozytywnych\")\n",
        "plt.ylabel(\"Odsetek przypadkow prawdziwie pozytywnych\")\n",
        "plt.title(\"Krzywa ROC\")\n",
        "plt.grid(True)\n",
        "plt.show()"
      ],
      "metadata": {
        "colab": {
          "base_uri": "https://localhost:8080/",
          "height": 472
        },
        "id": "w7QGeIuaQTTl",
        "outputId": "4b7cc5c5-57ef-444d-95ad-ebb150a789e6"
      },
      "execution_count": 258,
      "outputs": [
        {
          "output_type": "display_data",
          "data": {
            "text/plain": [
              "<Figure size 640x480 with 1 Axes>"
            ],
            "image/png": "[encoded data removed]"
          },
          "metadata": {}
        }
      ]
    },
    {
      "cell_type": "code",
      "source": [
        "# Urzycie naiwnego klasyfikatora Bayessa\n",
        "from sklearn.naive_bayes import MultinomialNB, GaussianNB\n",
        "\n",
        "clf = MultinomialNB(alpha=1.0, fit_prior=True)\n",
        "\n",
        "clf_gauss = GaussianNB()\n",
        "\n",
        "clf.fit(X_train, Y_train)\n",
        "\n",
        "clf_gauss.fit(X_train, Y_train)"
      ],
      "metadata": {
        "colab": {
          "base_uri": "https://localhost:8080/",
          "height": 75
        },
        "id": "lOA5o3QjQow7",
        "outputId": "98a66c28-ce64-40a1-a562-c671d6ecabba"
      },
      "execution_count": 259,
      "outputs": [
        {
          "output_type": "execute_result",
          "data": {
            "text/plain": [
              "GaussianNB()"
            ],
            "text/html": [
              "<style>#sk-container-id-16 {color: black;background-color: white;}#sk-container-id-16 pre{padding: 0;}#sk-container-id-16 div.sk-toggleable {background-color: white;}#sk-container-id-16 label.sk-toggleable__label {cursor: pointer;display: block;width: 100%;margin-bottom: 0;padding: 0.3em;box-sizing: border-box;text-align: center;}#sk-container-id-16 label.sk-toggleable__label-arrow:before {content: \"▸\";float: left;margin-right: 0.25em;color: #696969;}#sk-container-id-16 label.sk-toggleable__label-arrow:hover:before {color: black;}#sk-container-id-16 div.sk-estimator:hover label.sk-toggleable__label-arrow:before {color: black;}#sk-container-id-16 div.sk-toggleable__content {max-height: 0;max-width: 0;overflow: hidden;text-align: left;background-color: #f0f8ff;}#sk-container-id-16 div.sk-toggleable__content pre {margin: 0.2em;color: black;border-radius: 0.25em;background-color: #f0f8ff;}#sk-container-id-16 input.sk-toggleable__control:checked~div.sk-toggleable__content {max-height: 200px;max-width: 100%;overflow: auto;}#sk-container-id-16 input.sk-toggleable__control:checked~label.sk-toggleable__label-arrow:before {content: \"▾\";}#sk-container-id-16 div.sk-estimator input.sk-toggleable__control:checked~label.sk-toggleable__label {background-color: #d4ebff;}#sk-container-id-16 div.sk-label input.sk-toggleable__control:checked~label.sk-toggleable__label {background-color: #d4ebff;}#sk-container-id-16 input.sk-hidden--visually {border: 0;clip: rect(1px 1px 1px 1px);clip: rect(1px, 1px, 1px, 1px);height: 1px;margin: -1px;overflow: hidden;padding: 0;position: absolute;width: 1px;}#sk-container-id-16 div.sk-estimator {font-family: monospace;background-color: #f0f8ff;border: 1px dotted black;border-radius: 0.25em;box-sizing: border-box;margin-bottom: 0.5em;}#sk-container-id-16 div.sk-estimator:hover {background-color: #d4ebff;}#sk-container-id-16 div.sk-parallel-item::after {content: \"\";width: 100%;border-bottom: 1px solid gray;flex-grow: 1;}#sk-container-id-16 div.sk-label:hover label.sk-toggleable__label {background-color: #d4ebff;}#sk-container-id-16 div.sk-serial::before {content: \"\";position: absolute;border-left: 1px solid gray;box-sizing: border-box;top: 0;bottom: 0;left: 50%;z-index: 0;}#sk-container-id-16 div.sk-serial {display: flex;flex-direction: column;align-items: center;background-color: white;padding-right: 0.2em;padding-left: 0.2em;position: relative;}#sk-container-id-16 div.sk-item {position: relative;z-index: 1;}#sk-container-id-16 div.sk-parallel {display: flex;align-items: stretch;justify-content: center;background-color: white;position: relative;}#sk-container-id-16 div.sk-item::before, #sk-container-id-16 div.sk-parallel-item::before {content: \"\";position: absolute;border-left: 1px solid gray;box-sizing: border-box;top: 0;bottom: 0;left: 50%;z-index: -1;}#sk-container-id-16 div.sk-parallel-item {display: flex;flex-direction: column;z-index: 1;position: relative;background-color: white;}#sk-container-id-16 div.sk-parallel-item:first-child::after {align-self: flex-end;width: 50%;}#sk-container-id-16 div.sk-parallel-item:last-child::after {align-self: flex-start;width: 50%;}#sk-container-id-16 div.sk-parallel-item:only-child::after {width: 0;}#sk-container-id-16 div.sk-dashed-wrapped {border: 1px dashed gray;margin: 0 0.4em 0.5em 0.4em;box-sizing: border-box;padding-bottom: 0.4em;background-color: white;}#sk-container-id-16 div.sk-label label {font-family: monospace;font-weight: bold;display: inline-block;line-height: 1.2em;}#sk-container-id-16 div.sk-label-container {text-align: center;}#sk-container-id-16 div.sk-container {/* jupyter's `normalize.less` sets `[hidden] { display: none; }` but bootstrap.min.css set `[hidden] { display: none !important; }` so we also need the `!important` here to be able to override the default hidden behavior on the sphinx rendered scikit-learn.org. See: https://github.com/scikit-learn/scikit-learn/issues/21755 */display: inline-block !important;position: relative;}#sk-container-id-16 div.sk-text-repr-fallback {display: none;}</style><div id=\"sk-container-id-16\" class=\"sk-top-container\"><div class=\"sk-text-repr-fallback\"><pre>GaussianNB()</pre><b>In a Jupyter environment, please rerun this cell to show the HTML representation or trust the notebook. <br />On GitHub, the HTML representation is unable to render, please try loading this page with nbviewer.org.</b></div><div class=\"sk-container\" hidden><div class=\"sk-item\"><div class=\"sk-estimator sk-toggleable\"><input class=\"sk-toggleable__control sk-hidden--visually\" id=\"sk-estimator-id-16\" type=\"checkbox\" checked><label for=\"sk-estimator-id-16\" class=\"sk-toggleable__label sk-toggleable__label-arrow\">GaussianNB</label><div class=\"sk-toggleable__content\"><pre>GaussianNB()</pre></div></div></div></div></div>"
            ]
          },
          "metadata": {},
          "execution_count": 259
        }
      ]
    },
    {
      "cell_type": "code",
      "source": [
        "# Pradobpodibienstwo\n",
        "prediction_proba = clf.predict_proba(X_test)\n",
        "print(prediction_proba[:5])\n",
        "\n",
        "prediction_proba_gauss = clf_gauss.predict_proba(X_test)\n",
        "print(prediction_proba_gauss[:5])"
      ],
      "metadata": {
        "colab": {
          "base_uri": "https://localhost:8080/"
        },
        "id": "YveRNa_eR7Ec",
        "outputId": "74fba2f2-8753-4cff-a6cd-d853c7954aea"
      },
      "execution_count": 260,
      "outputs": [
        {
          "output_type": "stream",
          "name": "stdout",
          "text": [
            "[[6.13436311e-06 9.99993866e-01]\n",
            " [1.00000000e+00 5.32490062e-47]\n",
            " [1.00000000e+00 1.05129182e-13]\n",
            " [1.45821679e-16 1.00000000e+00]\n",
            " [1.86092861e-13 1.00000000e+00]]\n",
            "[[2.42625723e-09 9.99999998e-01]\n",
            " [1.00000000e+00 1.08688415e-58]\n",
            " [9.99999999e-01 6.07872900e-10]\n",
            " [1.50822001e-11 1.00000000e+00]\n",
            " [2.03620972e-14 1.00000000e+00]]\n"
          ]
        }
      ]
    },
    {
      "cell_type": "code",
      "source": [
        "# Predykcje\n",
        "predict = clf.predict(X_test)\n",
        "predict[:5]\n",
        "\n",
        "predict_gauss = clf_gauss.predict(X_test)"
      ],
      "metadata": {
        "id": "zUQJRhJ8SFqf"
      },
      "execution_count": 261,
      "outputs": []
    },
    {
      "cell_type": "code",
      "source": [
        "# Wykres ROC dla naivnego klasyfiktora Bayessa (MultinomialNB)\n",
        "true_pos_rate, false_pos_rate = ROC_graph(Y_true=Y_test,\n",
        "                                          prediction_prob=prediction_proba)\n",
        "\n",
        "plt.figure()\n",
        "lw = 2\n",
        "plt.plot(false_pos_rate, true_pos_rate, color='darkorange', lw=lw)\n",
        "plt.plot([0, 1], [0, 1], color='navy', linestyle='--')\n",
        "plt.xlabel(\"Odsetek przypadow falszywie pozytywnych\")\n",
        "plt.ylabel(\"Odsetek przypadkow prawdziwie pozytywnych\")\n",
        "plt.title(\"Krzywa ROC\")\n",
        "plt.grid(True)\n",
        "plt.show()"
      ],
      "metadata": {
        "colab": {
          "base_uri": "https://localhost:8080/",
          "height": 472
        },
        "id": "PyrcvH3CSZHY",
        "outputId": "608a3a18-d5f0-4a26-92af-92e6325f1ada"
      },
      "execution_count": 262,
      "outputs": [
        {
          "output_type": "display_data",
          "data": {
            "text/plain": [
              "<Figure size 640x480 with 1 Axes>"
            ],
            "image/png": "[encoded data removed]"
          },
          "metadata": {}
        }
      ]
    },
    {
      "cell_type": "code",
      "source": [
        "from sklearn.metrics import accuracy_score, confusion_matrix, classification_report\n",
        "acc_Multi = {\"model name\": \"naive Bayes Multi\",\n",
        "             'acc': round(accuracy_score(predict, Y_test)*100, 2)}\n",
        "acc_Multi"
      ],
      "metadata": {
        "colab": {
          "base_uri": "https://localhost:8080/"
        },
        "id": "xcGzR77dUBAh",
        "outputId": "3ea55528-aefc-4097-ef66-90bb6bb11ba1"
      },
      "execution_count": 263,
      "outputs": [
        {
          "output_type": "execute_result",
          "data": {
            "text/plain": [
              "{'model name': 'naive Bayes Multi', 'acc': 93.86}"
            ]
          },
          "metadata": {},
          "execution_count": 263
        }
      ]
    },
    {
      "cell_type": "code",
      "source": [
        "acc_gauss = {\"model name\": \"naive Bayess Gauss\",\n",
        "            'acc': round(accuracy_score(predict_gauss, Y_test)*100, 2)}\n"
      ],
      "metadata": {
        "id": "A9b_n7d2UU-6"
      },
      "execution_count": 264,
      "outputs": []
    },
    {
      "cell_type": "code",
      "source": [
        "# Wykres ROC dla naivnego Bayssa (Gaussa)\n",
        "true_pos_rate, false_pos_rate = ROC_graph(Y_true=Y_test,\n",
        "                                          prediction_prob=prediction_proba_gauss)\n",
        "\n",
        "plt.figure()\n",
        "lw = 2\n",
        "plt.plot(false_pos_rate, true_pos_rate, color='darkorange', lw=lw)\n",
        "plt.plot([0, 1], [0, 1], color='navy', linestyle='--')\n",
        "plt.xlabel(\"Odsetek przypadow falszywie pozytywnych\")\n",
        "plt.ylabel(\"Odsetek przypadkow prawdziwie pozytywnych\")\n",
        "plt.title(\"Krzywa ROC\")\n",
        "plt.grid(True)\n",
        "plt.show()"
      ],
      "metadata": {
        "colab": {
          "base_uri": "https://localhost:8080/",
          "height": 472
        },
        "id": "mwCvJ_6hTfeZ",
        "outputId": "6dc22b34-b083-4357-fab6-46a7c6506a22"
      },
      "execution_count": 265,
      "outputs": [
        {
          "output_type": "display_data",
          "data": {
            "text/plain": [
              "<Figure size 640x480 with 1 Axes>"
            ],
            "image/png": "[encoded data removed]"
          },
          "metadata": {}
        }
      ]
    },
    {
      "cell_type": "code",
      "source": [
        "# sprawdzenie danych na NN\n",
        "import torch\n",
        "from torch import nn\n",
        "\n",
        "class breast_cancer_classyfication(nn.Module):\n",
        "  def __init__(self,\n",
        "               imput_shape: int,\n",
        "               hidden_unit: int,\n",
        "               output_shape: int):\n",
        "    super().__init__()\n",
        "    self.block1 = nn.Sequential(\n",
        "                  nn.Linear(in_features=imput_shape,\n",
        "                            out_features=hidden_unit),\n",
        "                  nn.ReLU(),\n",
        "                  nn.Linear(in_features=hidden_unit,\n",
        "                            out_features=hidden_unit),\n",
        "                  nn.ReLU(),\n",
        "                  nn.Linear(in_features=hidden_unit,\n",
        "                            out_features=output_shape)\n",
        "                  )\n",
        "\n",
        "  def forward(self, x: torch.Tensor) -> torch.Tensor:\n",
        "    return self.block1(x)"
      ],
      "metadata": {
        "id": "cS-RjgDO6iHx"
      },
      "execution_count": 266,
      "outputs": []
    },
    {
      "cell_type": "code",
      "source": [
        "device = 'cuda' if torch.cuda.is_available else 'cpu'\n",
        "device"
      ],
      "metadata": {
        "colab": {
          "base_uri": "https://localhost:8080/",
          "height": 35
        },
        "id": "UYZXHyOc6xHF",
        "outputId": "0892bff7-46d3-42df-8a17-380043934357"
      },
      "execution_count": 267,
      "outputs": [
        {
          "output_type": "execute_result",
          "data": {
            "text/plain": [
              "'cuda'"
            ],
            "application/vnd.google.colaboratory.intrinsic+json": {
              "type": "string"
            }
          },
          "metadata": {},
          "execution_count": 267
        }
      ]
    },
    {
      "cell_type": "code",
      "source": [
        "print(f\"tyle musi byc neuronow wejsocwych: {X[0].shape[0]}\")\n",
        "print(f\"tyle ma byc neuronow wyjsciowych: {Y[0].shape}\")"
      ],
      "metadata": {
        "colab": {
          "base_uri": "https://localhost:8080/"
        },
        "id": "KnN5wfwu9Gnp",
        "outputId": "76d62b5d-292c-4e8e-b2a3-73313d424c0e"
      },
      "execution_count": 268,
      "outputs": [
        {
          "output_type": "stream",
          "name": "stdout",
          "text": [
            "tyle musi byc neuronow wejsocwych: 30\n",
            "tyle ma byc neuronow wyjsciowych: ()\n"
          ]
        }
      ]
    },
    {
      "cell_type": "code",
      "source": [
        "def accuracy_fun(y_true, y_pred):\n",
        "  correct = torch.eq(y_true, y_pred).sum().item()\n",
        "  acc = (correct/len(y_pred))*100\n",
        "  return acc"
      ],
      "metadata": {
        "id": "r5isnBK5BALc"
      },
      "execution_count": 269,
      "outputs": []
    },
    {
      "cell_type": "markdown",
      "source": [],
      "metadata": {
        "id": "flWSWibTcybL"
      }
    },
    {
      "cell_type": "code",
      "source": [
        "device = 'cpu'\n",
        "import numpy as np\n",
        "\n",
        "if isinstance(X_train, np.ndarray):\n",
        "    X_train, X_test = torch.from_numpy(X_train).type(torch.float32), torch.from_numpy(X_test).type(torch.float32)\n",
        "    Y_train, Y_test = torch.from_numpy(Y_train).type(torch.float32), torch.from_numpy(Y_test).type(torch.float32)\n",
        "\n",
        "X_train[0].size()[0]"
      ],
      "metadata": {
        "colab": {
          "base_uri": "https://localhost:8080/"
        },
        "id": "fV22-BfSABw7",
        "outputId": "50aae9e2-4e48-416e-c0db-8869eded1bd2"
      },
      "execution_count": 270,
      "outputs": [
        {
          "output_type": "execute_result",
          "data": {
            "text/plain": [
              "30"
            ]
          },
          "metadata": {},
          "execution_count": 270
        }
      ]
    },
    {
      "cell_type": "code",
      "source": [
        "model0 = breast_cancer_classyfication(imput_shape=X_test[0].size()[0],\n",
        "                                      hidden_unit=100,\n",
        "                                      output_shape=2).float()"
      ],
      "metadata": {
        "id": "fUJ-EhST83iH"
      },
      "execution_count": 271,
      "outputs": []
    },
    {
      "cell_type": "code",
      "source": [
        "model0.state_dict()"
      ],
      "metadata": {
        "colab": {
          "base_uri": "https://localhost:8080/"
        },
        "id": "7-OGG3vGMOjK",
        "outputId": "1cb437b4-79db-41ba-d3bc-e791a1aba263"
      },
      "execution_count": 272,
      "outputs": [
        {
          "output_type": "execute_result",
          "data": {
            "text/plain": [
              "OrderedDict([('block1.0.weight',\n",
              "              tensor([[ 0.1175, -0.1818, -0.1779,  ..., -0.1023, -0.0849, -0.0312],\n",
              "                      [ 0.1355,  0.0260, -0.1563,  ..., -0.0474,  0.0606, -0.1639],\n",
              "                      [-0.0941,  0.1166,  0.1696,  ...,  0.0977,  0.0396,  0.1259],\n",
              "                      ...,\n",
              "                      [-0.0825,  0.0737,  0.0181,  ...,  0.0194,  0.1477,  0.0445],\n",
              "                      [-0.0162,  0.1520,  0.0059,  ...,  0.0703, -0.1049, -0.1728],\n",
              "                      [ 0.0712, -0.0340,  0.0541,  ...,  0.1825,  0.1716,  0.0831]])),\n",
              "             ('block1.0.bias',\n",
              "              tensor([-0.0746, -0.0694,  0.1311, -0.0381,  0.0279,  0.1825, -0.1815, -0.0417,\n",
              "                      -0.0722, -0.0296,  0.0075, -0.0395,  0.1772,  0.0740, -0.1147,  0.1769,\n",
              "                      -0.0507,  0.0263,  0.0170, -0.1342,  0.0929, -0.1109, -0.1627,  0.1533,\n",
              "                       0.1093, -0.0764, -0.1307,  0.1649,  0.0646, -0.1212, -0.1517, -0.0755,\n",
              "                      -0.1015,  0.0129,  0.0175, -0.1787,  0.0916,  0.0930, -0.1654,  0.1468,\n",
              "                      -0.0727,  0.0940,  0.1791,  0.1081,  0.1226,  0.0064,  0.0267, -0.1553,\n",
              "                      -0.1325,  0.1471, -0.1669,  0.0786, -0.1076,  0.1583,  0.1347, -0.0413,\n",
              "                      -0.0233, -0.1267,  0.1703, -0.1100,  0.0652,  0.1279, -0.1758, -0.1796,\n",
              "                      -0.1281, -0.0274,  0.1135, -0.0556, -0.0754,  0.1215,  0.1464,  0.0962,\n",
              "                       0.1578, -0.1646, -0.1628,  0.0303, -0.1532, -0.0510,  0.1111,  0.1774,\n",
              "                      -0.0367, -0.1610, -0.0901,  0.1774, -0.0338, -0.1698, -0.0967, -0.1139,\n",
              "                      -0.0477, -0.1322, -0.0618,  0.1674, -0.0865, -0.0392,  0.1025, -0.1706,\n",
              "                      -0.0959, -0.0155,  0.1436,  0.0254])),\n",
              "             ('block1.2.weight',\n",
              "              tensor([[-0.0005, -0.0332,  0.0463,  ..., -0.0616,  0.0597,  0.0461],\n",
              "                      [-0.0374,  0.0016, -0.0158,  ...,  0.0386, -0.0023, -0.0301],\n",
              "                      [ 0.0228,  0.0079, -0.0551,  ...,  0.0901,  0.0507, -0.0696],\n",
              "                      ...,\n",
              "                      [-0.0670,  0.0992, -0.0154,  ...,  0.0380, -0.0439, -0.0970],\n",
              "                      [ 0.0158,  0.0800, -0.0041,  ..., -0.0527, -0.0542,  0.0874],\n",
              "                      [-0.0334, -0.0031, -0.0574,  ...,  0.0916,  0.0163,  0.0574]])),\n",
              "             ('block1.2.bias',\n",
              "              tensor([ 0.0976,  0.0436,  0.0384, -0.0107, -0.0739,  0.0337, -0.0727,  0.0013,\n",
              "                      -0.0938, -0.0964, -0.0447, -0.0988,  0.0591,  0.0246, -0.0276,  0.0916,\n",
              "                       0.0444,  0.0615, -0.0654, -0.0843, -0.0360,  0.0653, -0.0863, -0.0691,\n",
              "                       0.0045,  0.0364,  0.0567,  0.0184, -0.0147, -0.0385, -0.0023,  0.0630,\n",
              "                      -0.0810, -0.0923, -0.0101,  0.0050,  0.0483,  0.0380,  0.0961, -0.0361,\n",
              "                       0.0332, -0.0682, -0.0705, -0.0529,  0.0870, -0.0673, -0.0360,  0.0299,\n",
              "                      -0.0658,  0.0341, -0.0773,  0.0833,  0.0751,  0.0431,  0.0726,  0.0553,\n",
              "                       0.0256,  0.0317,  0.0034, -0.0327,  0.0109, -0.0740, -0.0984,  0.0013,\n",
              "                      -0.0513, -0.0435,  0.0449, -0.0302,  0.0927, -0.0537, -0.0920,  0.0330,\n",
              "                       0.0112,  0.0201,  0.0255, -0.0284, -0.0984,  0.0648, -0.0352,  0.0807,\n",
              "                      -0.0505,  0.0791,  0.0229, -0.0265, -0.0317,  0.0962,  0.0811, -0.0999,\n",
              "                      -0.0394, -0.0271,  0.0264, -0.0724, -0.0652,  0.0124,  0.0023, -0.0661,\n",
              "                       0.0537,  0.0893, -0.0398,  0.0993])),\n",
              "             ('block1.4.weight',\n",
              "              tensor([[ 0.0285,  0.0133, -0.0348,  0.0865,  0.0706, -0.0873,  0.0286, -0.0667,\n",
              "                       -0.0500, -0.0531,  0.0008, -0.0277, -0.0240,  0.0706,  0.0134, -0.0742,\n",
              "                       -0.0486, -0.0819, -0.0451,  0.0569,  0.0309, -0.0300,  0.0518,  0.0043,\n",
              "                        0.0808, -0.0413, -0.0953, -0.0361, -0.0110,  0.0907,  0.0196, -0.0429,\n",
              "                        0.0572,  0.0896, -0.0554, -0.0166,  0.0992,  0.0895, -0.0054,  0.0596,\n",
              "                        0.0583, -0.0034, -0.0437, -0.0011,  0.0058,  0.0932,  0.0475, -0.0491,\n",
              "                        0.0895, -0.0423, -0.0430,  0.0697,  0.0548,  0.0608,  0.0007, -0.0882,\n",
              "                        0.0990,  0.0171,  0.0540,  0.0908,  0.0358,  0.0765,  0.0065,  0.0797,\n",
              "                        0.0870,  0.0909,  0.0335,  0.0487, -0.0141, -0.0287, -0.0536,  0.0585,\n",
              "                       -0.0272,  0.0679,  0.0088, -0.0252, -0.0443, -0.0172, -0.0578, -0.0238,\n",
              "                       -0.0294, -0.0665,  0.0912, -0.0346,  0.0857,  0.0898,  0.0507,  0.0903,\n",
              "                        0.0380, -0.0853, -0.0547,  0.0184,  0.0163,  0.0221, -0.0473, -0.0600,\n",
              "                       -0.0128,  0.0488,  0.0409, -0.0104],\n",
              "                      [ 0.0548, -0.0761, -0.0672,  0.0361,  0.0852, -0.0571, -0.0585,  0.0341,\n",
              "                        0.0011, -0.0766, -0.0797, -0.0847, -0.0341,  0.0007, -0.0210, -0.0225,\n",
              "                       -0.0760,  0.0673,  0.0795,  0.0088,  0.0298,  0.0911, -0.0643,  0.0058,\n",
              "                       -0.0363, -0.0533, -0.0042, -0.0328, -0.0980,  0.0866, -0.0897,  0.0620,\n",
              "                        0.0142,  0.0335,  0.0950,  0.0659,  0.0959,  0.0305, -0.0402,  0.0049,\n",
              "                       -0.0462, -0.0636, -0.0006, -0.0394,  0.0034, -0.0166, -0.0550,  0.0107,\n",
              "                       -0.0612, -0.0337, -0.0538,  0.0808, -0.0398, -0.0684, -0.0160,  0.0517,\n",
              "                        0.0196,  0.0875, -0.0090,  0.0302, -0.0714,  0.0064,  0.0401, -0.0311,\n",
              "                       -0.0141, -0.0031, -0.0666, -0.0380, -0.0993, -0.0303, -0.0034, -0.0140,\n",
              "                       -0.0195, -0.0201, -0.0019,  0.0731, -0.0015,  0.0648, -0.0321,  0.0385,\n",
              "                        0.0143,  0.0114, -0.0656,  0.0497,  0.0164, -0.0730, -0.0864, -0.0312,\n",
              "                       -0.0574, -0.0894, -0.0056, -0.0549, -0.0694,  0.0896,  0.0476,  0.0999,\n",
              "                        0.0713, -0.0734,  0.0891,  0.0187]])),\n",
              "             ('block1.4.bias', tensor([ 0.0323, -0.0821]))])"
            ]
          },
          "metadata": {},
          "execution_count": 272
        }
      ]
    },
    {
      "cell_type": "code",
      "source": [
        "X_train.size(), Y_train.size()"
      ],
      "metadata": {
        "colab": {
          "base_uri": "https://localhost:8080/"
        },
        "id": "8i0R7bzUGQna",
        "outputId": "83b8c3c7-9180-4898-c8fd-68d969b0fa65"
      },
      "execution_count": 273,
      "outputs": [
        {
          "output_type": "execute_result",
          "data": {
            "text/plain": [
              "(torch.Size([455, 30]), torch.Size([455]))"
            ]
          },
          "metadata": {},
          "execution_count": 273
        }
      ]
    },
    {
      "cell_type": "code",
      "source": [
        "Y_logits = model0(X_train)\n",
        "Y_logits[:3].squeeze(dim=1)"
      ],
      "metadata": {
        "colab": {
          "base_uri": "https://localhost:8080/"
        },
        "id": "sqasDPOaG7bD",
        "outputId": "b366249c-d60f-48b7-fc27-cc521587b713"
      },
      "execution_count": 274,
      "outputs": [
        {
          "output_type": "execute_result",
          "data": {
            "text/plain": [
              "tensor([[  5.6465,  -9.0927],\n",
              "        [ 29.2272, -43.4049],\n",
              "        [  6.1745,  -8.7894]], grad_fn=<SqueezeBackward1>)"
            ]
          },
          "metadata": {},
          "execution_count": 274
        }
      ]
    },
    {
      "cell_type": "code",
      "source": [
        "from tqdm import tqdm\n",
        "torch.manual_seed(42)\n",
        "torch.cuda.manual_seed(42)\n",
        "\n",
        "# optimazer i funcka bladu\n",
        "optim = torch.optim.Adam(params=model0.parameters(),\n",
        "                         lr=0.01)\n",
        "\n",
        "loss_fn = nn.BCEWithLogitsLoss()\n",
        "\n",
        "X_train, X_test, Y_train, Y_test = X_train.to(device), X_test.to(device), Y_train.to(device), Y_test.to(device)\n",
        "epochs = 100\n",
        "\n",
        "for epoch in tqdm(range(epochs)):\n",
        "    # Trening\n",
        "    model0.train()\n",
        "\n",
        "    Y_logits = model0(X_train)\n",
        "    Y_logits_squeezed = Y_logits.squeeze(dim=1)[:, 0]\n",
        "    Y_pred = torch.round(torch.sigmoid(Y_logits_squeezed))\n",
        "\n",
        "    loss = loss_fn(Y_logits_squeezed, Y_train)\n",
        "    acc = accuracy_fun(Y_train, Y_pred)\n",
        "\n",
        "    optim.zero_grad()\n",
        "    loss.backward()\n",
        "    optim.step()\n",
        "\n",
        "    # Walidacja\n",
        "    model0.eval()\n",
        "    with torch.no_grad():\n",
        "        # Testowanie\n",
        "        test_logits = model0(X_test)[:, 0]\n",
        "        test_pred = torch.round(torch.sigmoid(test_logits))\n",
        "\n",
        "        test_loss = loss_fn(torch.sigmoid(test_logits), Y_test)\n",
        "        test_acc = accuracy_fun(Y_test, test_pred)\n",
        "\n",
        "        if epoch % 10 == 0:\n",
        "            print(f\"epoch: {epoch}, loss: {loss:.2f}, acc: {acc:.2f}% | test loss: {test_loss:.2f}, test acc: {test_acc:.2f}%\")\n"
      ],
      "metadata": {
        "colab": {
          "base_uri": "https://localhost:8080/"
        },
        "id": "aaTnzNyu-7WT",
        "outputId": "f42adf8a-e7de-4157-aa20-4b150b549ac3"
      },
      "execution_count": 275,
      "outputs": [
        {
          "output_type": "stream",
          "name": "stderr",
          "text": [
            "\r  0%|          | 0/100 [00:00<?, ?it/s]"
          ]
        },
        {
          "output_type": "stream",
          "name": "stdout",
          "text": [
            "epoch: 0, loss: 8.49, acc: 62.86% | test loss: 0.69, test acc: 37.72%\n",
            "epoch: 10, loss: 1.60, acc: 37.14% | test loss: 0.67, test acc: 37.72%\n",
            "epoch: 20, loss: 0.37, acc: 87.25% | test loss: 0.53, test acc: 94.74%\n"
          ]
        },
        {
          "output_type": "stream",
          "name": "stderr",
          "text": [
            " 52%|█████▏    | 52/100 [00:00<00:00, 256.41it/s]"
          ]
        },
        {
          "output_type": "stream",
          "name": "stdout",
          "text": [
            "epoch: 30, loss: 0.26, acc: 90.99% | test loss: 0.50, test acc: 94.74%\n",
            "epoch: 40, loss: 0.22, acc: 91.65% | test loss: 0.49, test acc: 96.49%\n",
            "epoch: 50, loss: 0.22, acc: 90.99% | test loss: 0.49, test acc: 96.49%\n"
          ]
        },
        {
          "output_type": "stream",
          "name": "stderr",
          "text": [
            "\r 78%|███████▊  | 78/100 [00:00<00:00, 256.08it/s]"
          ]
        },
        {
          "output_type": "stream",
          "name": "stdout",
          "text": [
            "epoch: 60, loss: 0.21, acc: 91.21% | test loss: 0.49, test acc: 96.49%\n",
            "epoch: 70, loss: 0.20, acc: 91.65% | test loss: 0.49, test acc: 96.49%\n",
            "epoch: 80, loss: 0.19, acc: 92.09% | test loss: 0.49, test acc: 96.49%\n"
          ]
        },
        {
          "output_type": "stream",
          "name": "stderr",
          "text": [
            "\r100%|██████████| 100/100 [00:00<00:00, 252.67it/s]"
          ]
        },
        {
          "output_type": "stream",
          "name": "stdout",
          "text": [
            "epoch: 90, loss: 0.18, acc: 92.75% | test loss: 0.49, test acc: 96.49%\n"
          ]
        },
        {
          "output_type": "stream",
          "name": "stderr",
          "text": [
            "\n"
          ]
        }
      ]
    },
    {
      "cell_type": "code",
      "source": [
        "Y_logits = model0(X_train)\n",
        "\n",
        "true_pos_rate, false_pos_rate = ROC_graph(Y_true=Y_test,\n",
        "                                          prediction_prob=Y_logits)"
      ],
      "metadata": {
        "id": "X7HSAo3QOM3K"
      },
      "execution_count": 282,
      "outputs": []
    },
    {
      "cell_type": "code",
      "source": [
        "Neural_network_acc = {\"model name\": \"Nonlinear NN\",\n",
        "                      \"acc\": round(test_acc, 2)}"
      ],
      "metadata": {
        "id": "gze1kHY8Qk75"
      },
      "execution_count": 277,
      "outputs": []
    },
    {
      "cell_type": "code",
      "source": [
        "# sprawdzenie wartosci dla liniwych sieci neuronowych\n",
        "\n",
        "class breast_cancer_classyfication_linear(nn.Module):\n",
        "  def __init__(self,\n",
        "               input_shape: int,\n",
        "               hidden_unit: int,\n",
        "               output_shape: int):\n",
        "    super().__init__()\n",
        "    self.block1 = nn.Sequential(\n",
        "                  nn.Linear(in_features=input_shape,\n",
        "                            out_features=hidden_unit),\n",
        "                  nn.Linear(in_features=hidden_unit,\n",
        "                            out_features=hidden_unit),\n",
        "                  nn.Linear(in_features=hidden_unit,\n",
        "                            out_features=output_shape)\n",
        "    )\n",
        "  def forward(self, x: torch.Tensor) -> torch.Tensor:\n",
        "    return self.block1(x)"
      ],
      "metadata": {
        "id": "z7P5YNVQoYen"
      },
      "execution_count": 278,
      "outputs": []
    },
    {
      "cell_type": "code",
      "source": [
        "model1 = breast_cancer_classyfication_linear(input_shape=X_test[0].size()[0],\n",
        "                                      hidden_unit=100,\n",
        "                                      output_shape=2).float()\n",
        "# optimazer i funcka bladu\n",
        "optim = torch.optim.Adam(params=model1.parameters(),\n",
        "                         lr=0.01)\n",
        "\n",
        "loss_fn = nn.BCEWithLogitsLoss()\n",
        "\n",
        "X_train, X_test, Y_train, Y_test = X_train.to(device), X_test.to(device), Y_train.to(device), Y_test.to(device)\n",
        "epochs = 100\n",
        "\n",
        "for epoch in tqdm(range(epochs)):\n",
        "    # Trening\n",
        "    model1.train()\n",
        "\n",
        "    Y_logits = model1(X_train)\n",
        "    Y_logits_squeezed = Y_logits.squeeze(dim=1)[:, 0]\n",
        "    Y_pred = torch.round(torch.sigmoid(Y_logits_squeezed))\n",
        "\n",
        "    loss = loss_fn(Y_logits_squeezed, Y_train)\n",
        "    acc = accuracy_fun(Y_train, Y_pred)\n",
        "\n",
        "    optim.zero_grad()\n",
        "    loss.backward()\n",
        "    optim.step()\n",
        "\n",
        "    # Walidacja\n",
        "    model1.eval()\n",
        "    with torch.no_grad():\n",
        "        # Testowanie\n",
        "        test_logits = model0(X_test)[:, 0]\n",
        "        test_pred = torch.round(torch.sigmoid(test_logits))\n",
        "\n",
        "        test_loss = loss_fn(torch.sigmoid(test_logits), Y_test)\n",
        "        test_acc = accuracy_fun(Y_test, test_pred)\n",
        "\n",
        "        if epoch % 10 == 0:\n",
        "            print(f\"epoch: {epoch}, loss: {loss:.2f}, acc: {acc:.2f}% | test loss: {test_loss:.2f}, test acc: {test_acc:.2f}%\")\n",
        "\n",
        "linera_acc = {\"model name\": \"linera NN\",\n",
        "              'acc': round(test_acc, 2)}"
      ],
      "metadata": {
        "colab": {
          "base_uri": "https://localhost:8080/"
        },
        "id": "wrtgv3-nocbB",
        "outputId": "2c181277-9d51-458b-ee63-7076fd36cadb"
      },
      "execution_count": 279,
      "outputs": [
        {
          "output_type": "stream",
          "name": "stderr",
          "text": [
            " 21%|██        | 21/100 [00:00<00:00, 208.61it/s]"
          ]
        },
        {
          "output_type": "stream",
          "name": "stdout",
          "text": [
            "epoch: 0, loss: 1.37, acc: 61.54% | test loss: 0.49, test acc: 94.74%\n",
            "epoch: 10, loss: 7.39, acc: 37.80% | test loss: 0.49, test acc: 94.74%\n",
            "epoch: 20, loss: 3.94, acc: 46.15% | test loss: 0.49, test acc: 94.74%\n"
          ]
        },
        {
          "output_type": "stream",
          "name": "stderr",
          "text": [
            "\r 52%|█████▏    | 52/100 [00:00<00:00, 262.02it/s]"
          ]
        },
        {
          "output_type": "stream",
          "name": "stdout",
          "text": [
            "epoch: 30, loss: 0.51, acc: 89.01% | test loss: 0.49, test acc: 94.74%\n",
            "epoch: 40, loss: 0.25, acc: 90.99% | test loss: 0.49, test acc: 94.74%\n",
            "epoch: 50, loss: 0.27, acc: 90.99% | test loss: 0.49, test acc: 94.74%\n"
          ]
        },
        {
          "output_type": "stream",
          "name": "stderr",
          "text": [
            "\r 79%|███████▉  | 79/100 [00:00<00:00, 262.17it/s]"
          ]
        },
        {
          "output_type": "stream",
          "name": "stdout",
          "text": [
            "epoch: 60, loss: 0.24, acc: 91.21% | test loss: 0.49, test acc: 94.74%\n",
            "epoch: 70, loss: 0.24, acc: 90.55% | test loss: 0.49, test acc: 94.74%\n",
            "epoch: 80, loss: 0.24, acc: 91.65% | test loss: 0.49, test acc: 94.74%\n"
          ]
        },
        {
          "output_type": "stream",
          "name": "stderr",
          "text": [
            "\r100%|██████████| 100/100 [00:00<00:00, 256.24it/s]"
          ]
        },
        {
          "output_type": "stream",
          "name": "stdout",
          "text": [
            "epoch: 90, loss: 0.23, acc: 90.77% | test loss: 0.49, test acc: 94.74%\n"
          ]
        },
        {
          "output_type": "stream",
          "name": "stderr",
          "text": [
            "\n"
          ]
        }
      ]
    },
    {
      "cell_type": "code",
      "source": [
        "import pandas as pd\n",
        "compare_result = pd.DataFrame([linera_acc, Neural_network_acc, acc_gauss, acc_Multi])\n",
        "\n",
        "print(compare_result)"
      ],
      "metadata": {
        "colab": {
          "base_uri": "https://localhost:8080/"
        },
        "id": "2Xn8ai8GvvlU",
        "outputId": "c4ef9b89-0d0c-4ac4-a1ac-9a9cb84c31a0"
      },
      "execution_count": 280,
      "outputs": [
        {
          "output_type": "stream",
          "name": "stdout",
          "text": [
            "           model name    acc\n",
            "0           linera NN  94.74\n",
            "1        Nonlinear NN  94.74\n",
            "2  naive Bayess Gauss  97.37\n",
            "3   naive Bayes Multi  93.86\n"
          ]
        }
      ]
    }
  ]
}