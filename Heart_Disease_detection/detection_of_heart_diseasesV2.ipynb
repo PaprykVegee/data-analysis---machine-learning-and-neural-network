{
  "nbformat": 4,
  "nbformat_minor": 0,
  "metadata": {
    "colab": {
      "provenance": []
    },
    "kernelspec": {
      "name": "python3",
      "display_name": "Python 3"
    },
    "language_info": {
      "name": "python"
    }
  },
  "cells": [
    {
      "cell_type": "code",
      "source": [
        "from google.colab import files\n",
        "from pathlib import Path\n",
        "\n",
        "\n",
        "if not Path(r\"/content/heart+disease.zip\"):\n",
        "  # Pobranie pliku z lokalnego komputera na dysk Google Colab\n",
        "  uploaded = files.upload()\n",
        "\n",
        "  for filename in uploaded.keys():\n",
        "      with open(filename, 'wb') as f:\n",
        "          f.write(uploaded[filename])\n",
        "\n",
        "  print(f\"Plik {filename} został przesłany i zapisany w domyślnym miejscu na dysku Google Colab.\")\n"
      ],
      "metadata": {
        "id": "bnA3i8sQw63i"
      },
      "execution_count": null,
      "outputs": []
    },
    {
      "cell_type": "code",
      "source": [
        "import zipfile\n",
        "from pathlib import Path\n",
        "\n",
        "def open_zip_file(zip_file_path, extraction_path):\n",
        "    extracted_folder_path = Path(extraction_path)\n",
        "    print(extracted_folder_path)\n",
        "    if extracted_folder_path.exists():\n",
        "      print(\"Folder juz istnieje\")\n",
        "    else:\n",
        "      try:\n",
        "          # Otwarcie pliku ZIP\n",
        "          with zipfile.ZipFile(zip_file_path, 'r') as zip_ref:\n",
        "              # Wylistowanie zawartości pliku ZIP\n",
        "              zip_ref.printdir()\n",
        "              # Wypakowanie wszystkich plików\n",
        "              zip_ref.extractall(extraction_path)\n",
        "\n",
        "          print(\"Plik ZIP został otwarty pomyślnie.\")\n",
        "      except zipfile.BadZipFile:\n",
        "          print(\"Plik nie jest prawidłowym plikiem ZIP.\")\n",
        "      except FileNotFoundError:\n",
        "          print(\"Nie można odnaleźć podanego pliku ZIP.\")\n",
        "\n",
        "    return extracted_folder_path"
      ],
      "metadata": {
        "id": "ApOev1t7yNXn"
      },
      "execution_count": null,
      "outputs": []
    },
    {
      "cell_type": "code",
      "source": [
        "extracted_folder_path = open_zip_file(zip_file_path='heart+disease.zip',\n",
        "                                      extraction_path='Heart Disease Dataset')"
      ],
      "metadata": {
        "colab": {
          "base_uri": "https://localhost:8080/"
        },
        "id": "AatXkkajyTLi",
        "outputId": "168d3549-cefe-46e6-9af7-d6d0b4f2a2b4"
      },
      "execution_count": null,
      "outputs": [
        {
          "output_type": "stream",
          "name": "stdout",
          "text": [
            "Heart Disease Dataset\n",
            "Folder juz istnieje\n"
          ]
        }
      ]
    },
    {
      "cell_type": "code",
      "source": [
        "# krzywa ROC from scrach\n",
        "import numpy as np\n",
        "\n",
        "def ROC_graph(Y_true, prediction_prob):\n",
        "  \"\"\"\n",
        "  Funckja rysuje wykres ROC na podsawie prawidzywich danych i uch predykcji\n",
        "  @param Y_true: prawdziwy wartosc uzyskana\n",
        "  @param predict: dane otzymane na podstwie wyszkolenego modelu (prawdopodobienstow przynalerznosci do danej klasy)\n",
        "  @return dwu elementowa liste zawierajaca false_pos_rate i true_pos_rate\n",
        "  \"\"\"\n",
        "  pos_prob = prediction_prob[:, 1]\n",
        "  thresholds = np.arange(0.0, 1.1, 0.05)\n",
        "  true_pos, false_pos = [0]*len(thresholds), [0]*len(thresholds)\n",
        "  for pred, y in zip(pos_prob, Y_true):\n",
        "    for i, threshold in enumerate(thresholds):\n",
        "      if pred >= threshold:\n",
        "        if y == 1:\n",
        "          true_pos[i] += 1\n",
        "        else:\n",
        "          false_pos[i] += 1\n",
        "      else:\n",
        "        break\n",
        "\n",
        "  n_pos_test = (Y_true == 1).sum()\n",
        "  n_neg_test = (Y_true == 0).sum()\n",
        "\n",
        "  true_pos_rate = [tp / n_pos_test for tp in true_pos]\n",
        "  false_pos_rate = [fp / n_neg_test for fp in false_pos]\n",
        "\n",
        "  return true_pos_rate, false_pos_rate"
      ],
      "metadata": {
        "id": "srE95Zs5P2r7"
      },
      "execution_count": null,
      "outputs": []
    },
    {
      "cell_type": "code",
      "source": [
        "def accuracy_fun(y_true, y_pred):\n",
        "  correct = torch.eq(y_true, y_pred).sum().item()\n",
        "  acc = (correct/len(y_pred))*100\n",
        "  return acc"
      ],
      "metadata": {
        "id": "TFvxZPabbTbC"
      },
      "execution_count": null,
      "outputs": []
    },
    {
      "cell_type": "code",
      "source": [
        "weights = {\n",
        "    'age': 7,\n",
        "    'sex': 4,\n",
        "    'cp': 5,\n",
        "    'trestbps': 7,\n",
        "    'chol': 7,\n",
        "    'fbs': 5,\n",
        "    'thaloch': 8,\n",
        "    'restecg': 10,\n",
        "    'exang': 10,\n",
        "    'oldpeak': 6,\n",
        "    'slope': 4,\n",
        "    'ca': 1,\n",
        "    'thal': 1,\n",
        "    'target': 1\n",
        "}\n",
        "\n",
        "categorical_list = list(weights.keys())\n",
        "weights_list = list(weights.values())\n",
        "\n",
        "print(categorical_list)\n",
        "print(weights_list)"
      ],
      "metadata": {
        "colab": {
          "base_uri": "https://localhost:8080/"
        },
        "id": "KtSsIOaw5bpG",
        "outputId": "2095c35f-2bc6-4918-97d5-659c365d0a7f"
      },
      "execution_count": null,
      "outputs": [
        {
          "output_type": "stream",
          "name": "stdout",
          "text": [
            "['age', 'sex', 'cp', 'trestbps', 'chol', 'fbs', 'thaloch', 'restecg', 'exang', 'oldpeak', 'slope', 'ca', 'thal', 'target']\n",
            "[7, 4, 5, 7, 7, 5, 8, 10, 10, 6, 4, 1, 1, 1]\n"
          ]
        }
      ]
    },
    {
      "cell_type": "code",
      "source": [
        "import pandas as pd\n",
        "from pathlib import Path\n",
        "\n",
        "def downlowad_data(path: str,\n",
        "                   categorical: list,\n",
        "                   weights: list = None):\n",
        "    \"\"\"\n",
        "    Funkcja otwiera plik, oczyszcza z niepotrzebnych elementów\n",
        "    i skaluje wartości między podanym zakresem.\n",
        "    Zwraca data frama oraz słownik, gdzie kluczami są\n",
        "    nazwy usuniętych kolumn, a wartościami są ich indeksy.\n",
        "\n",
        "    @param path: ścieżka do pliku\n",
        "    @param categorical: nazwy kolumn\n",
        "    @return: mapa danych i wartosc wyjscowa\n",
        "    \"\"\"\n",
        "\n",
        "    # przerobienie strina na obiekt typu Path\n",
        "    path = Path(path)\n",
        "    # pobranie danych z pliku\n",
        "    df = pd.read_csv(path)\n",
        "    # dodanie nagowko do kolumny\n",
        "    df.columns = categorical\n",
        "\n",
        "    # utworzenie data frame o krztałscie df ale zamias zmienej mamy typ zmienien\n",
        "    types = df.dtypes\n",
        "\n",
        "    # indexy kolum które nie zawieraja znaiej innej niz floath i int\n",
        "    non_numeric_columns = types[types != 'float64'][types != 'int64'].index\n",
        "\n",
        "    # przerbienie ostaniej kolumny (targets)\n",
        "    df.loc[:, categorical[-1]] = df.loc[:, categorical[-1]].apply(lambda x: 0 if x==0 else 1)\n",
        "\n",
        "    # Usunięcie kolumn w ktorych nie ma samych numerycznych danych\n",
        "    df = df.drop(columns=non_numeric_columns)\n",
        "\n",
        "    # przeksztalcenie df na liste\n",
        "    non_numeric_columns = list(non_numeric_columns)\n",
        "\n",
        "    # usuniecie z listy elemnetow ktore zosatlu usuniete z daa frame\n",
        "    indexes = [categorical.index(item) for item in non_numeric_columns if item in categorical]\n",
        "    categorical = list(filter(lambda x: x not in non_numeric_columns, categorical))\n",
        "\n",
        "    if weights is not None:\n",
        "      weights_copy = weights.copy()\n",
        "\n",
        "      for i in indexes:\n",
        "        weights_copy.remove(i)\n",
        "\n",
        "      for weight, col_num in zip(weights_copy, range(df.shape[1])):\n",
        "        df.iloc[:, col_num] = df.iloc[:, col_num] * weight\n",
        "    # tworzenie mapy 0 i 1\n",
        "    encoded_df = pd.get_dummies(df, columns=categorical[:-1])\n",
        "\n",
        "    # Podzial danych na cechy i wartosc docelowa\n",
        "    X = encoded_df.drop(categorical[-1],  axis=1)\n",
        "    y = encoded_df[categorical[-1]]\n",
        "\n",
        "    return X, y"
      ],
      "metadata": {
        "id": "GuS33-JjyTNS"
      },
      "execution_count": null,
      "outputs": []
    },
    {
      "cell_type": "code",
      "source": [],
      "metadata": {
        "id": "8xdS7YAgr5qz"
      },
      "execution_count": null,
      "outputs": []
    },
    {
      "cell_type": "code",
      "source": [
        "len(weights_list)"
      ],
      "metadata": {
        "colab": {
          "base_uri": "https://localhost:8080/"
        },
        "id": "TVl2-653NfP2",
        "outputId": "aad42ce8-ef2d-4b30-ba48-299e344690b6"
      },
      "execution_count": null,
      "outputs": [
        {
          "output_type": "execute_result",
          "data": {
            "text/plain": [
              "14"
            ]
          },
          "metadata": {},
          "execution_count": 1516
        }
      ]
    },
    {
      "cell_type": "code",
      "source": [
        "path = r\"/content/Heart Disease Dataset/processed.hungarian.data\"\n",
        "X, y = downlowad_data(path, categorical_list)"
      ],
      "metadata": {
        "id": "QYBiN0yX4_Ux"
      },
      "execution_count": null,
      "outputs": []
    },
    {
      "cell_type": "code",
      "source": [
        "from sklearn.model_selection import train_test_split\n",
        "from sklearn.preprocessing import MinMaxScaler\n",
        "\n",
        "# pdozial na dane treningowe i testowe\n",
        "X_train, X_test, Y_train, Y_test = train_test_split(X, y, test_size=0.2, random_state=42)\n",
        "\n",
        "scaler = MinMaxScaler()\n",
        "\n",
        "X_train = scaler.fit_transform(X_train)\n",
        "X_test = scaler.transform(X_test)\n"
      ],
      "metadata": {
        "id": "YlLwNv4jF-Kr"
      },
      "execution_count": null,
      "outputs": []
    },
    {
      "cell_type": "code",
      "source": [
        "# uzucie naiwnego klasyfikatora Bayesa\n",
        "from sklearn.naive_bayes import MultinomialNB\n",
        "\n",
        "clf = MultinomialNB(alpha=1.0, fit_prior = True)\n",
        "clf.fit(X_train, Y_train)\n",
        "\n",
        "prediction_proba = clf.predict_proba(X_test)\n",
        "prediction_proba[:5]"
      ],
      "metadata": {
        "colab": {
          "base_uri": "https://localhost:8080/"
        },
        "id": "J82YYW1UHIed",
        "outputId": "eefa106d-1e38-4bfb-aedb-d91fa2536937"
      },
      "execution_count": null,
      "outputs": [
        {
          "output_type": "execute_result",
          "data": {
            "text/plain": [
              "array([[0.91004748, 0.08995252],\n",
              "       [0.08461255, 0.91538745],\n",
              "       [0.9835034 , 0.0164966 ],\n",
              "       [0.3018246 , 0.6981754 ],\n",
              "       [0.98722589, 0.01277411]])"
            ]
          },
          "metadata": {},
          "execution_count": 1519
        }
      ]
    },
    {
      "cell_type": "code",
      "source": [
        "prediction = clf.predict(X_test)\n",
        "prediction[:5]"
      ],
      "metadata": {
        "colab": {
          "base_uri": "https://localhost:8080/"
        },
        "id": "UraLYC7WHrqV",
        "outputId": "3e32560a-f432-4867-b11e-4a6e14df4f82"
      },
      "execution_count": null,
      "outputs": [
        {
          "output_type": "execute_result",
          "data": {
            "text/plain": [
              "array([0, 1, 0, 1, 0])"
            ]
          },
          "metadata": {},
          "execution_count": 1520
        }
      ]
    },
    {
      "cell_type": "code",
      "source": [
        "from sklearn.preprocessing import MinMaxScaler\n",
        "from sklearn.metrics import accuracy_score, confusion_matrix, classification_report"
      ],
      "metadata": {
        "id": "phg_j5AWQQhg"
      },
      "execution_count": null,
      "outputs": []
    },
    {
      "cell_type": "code",
      "source": [
        "# dokladnosc modelu\n",
        "acc = clf.score(X_test, Y_test)\n",
        "print(f\"Dokładnosc modelu {acc*100:.1f}%\")"
      ],
      "metadata": {
        "colab": {
          "base_uri": "https://localhost:8080/"
        },
        "id": "eHxzG4E6H4Ge",
        "outputId": "c6ab2975-743c-4039-d6d4-116acbf26dfe"
      },
      "execution_count": null,
      "outputs": [
        {
          "output_type": "stream",
          "name": "stdout",
          "text": [
            "Dokładnosc modelu 83.1%\n"
          ]
        }
      ]
    },
    {
      "cell_type": "code",
      "source": [
        "true_pos_rate, false_pos_rate = ROC_graph(Y_true=Y_test,\n",
        "                                          prediction_prob=prediction_proba)"
      ],
      "metadata": {
        "id": "Ltei4EGzP9Uw"
      },
      "execution_count": null,
      "outputs": []
    },
    {
      "cell_type": "code",
      "source": [
        "# rysiwanie wykresu ROC\n",
        "import matplotlib.pyplot as plt\n",
        "plt.figure()\n",
        "lw = 2\n",
        "plt.plot(false_pos_rate, true_pos_rate, color='darkorange', lw=lw)\n",
        "plt.plot([0, 1], [0, 1], color='navy', linestyle='--')\n",
        "plt.xlabel(\"Odsetek przypadow falszywie pozytywnych\")\n",
        "plt.ylabel(\"Odsetek przypadkow prawdziwie pozytywnych\")\n",
        "plt.title(\"Krzywa ROC\")\n",
        "plt.grid(True)\n",
        "plt.show()"
      ],
      "metadata": {
        "colab": {
          "base_uri": "https://localhost:8080/",
          "height": 472
        },
        "id": "lu4w1bTnQAp7",
        "outputId": "782b4618-7cda-4da3-d563-c2e568144f5a"
      },
      "execution_count": null,
      "outputs": [
        {
          "output_type": "display_data",
          "data": {
            "text/plain": [
              "<Figure size 640x480 with 1 Axes>"
            ],
            "image/png": "[encoded data removed]"
          },
          "metadata": {}
        }
      ]
    },
    {
      "cell_type": "code",
      "source": [
        "print(classification_report(Y_test, prediction))"
      ],
      "metadata": {
        "colab": {
          "base_uri": "https://localhost:8080/"
        },
        "id": "irc6lizXQbYW",
        "outputId": "b677479c-3625-4a30-8c84-692264363ba2"
      },
      "execution_count": null,
      "outputs": [
        {
          "output_type": "stream",
          "name": "stdout",
          "text": [
            "              precision    recall  f1-score   support\n",
            "\n",
            "           0       0.92      0.83      0.87        41\n",
            "           1       0.68      0.83      0.75        18\n",
            "\n",
            "    accuracy                           0.83        59\n",
            "   macro avg       0.80      0.83      0.81        59\n",
            "weighted avg       0.85      0.83      0.83        59\n",
            "\n"
          ]
        }
      ]
    },
    {
      "cell_type": "code",
      "source": [
        "print(confusion_matrix(Y_test, prediction))"
      ],
      "metadata": {
        "colab": {
          "base_uri": "https://localhost:8080/"
        },
        "id": "ZdDLWUleQpjC",
        "outputId": "be5193a3-9906-43f6-b81e-dfec7944218e"
      },
      "execution_count": null,
      "outputs": [
        {
          "output_type": "stream",
          "name": "stdout",
          "text": [
            "[[34  7]\n",
            " [ 3 15]]\n"
          ]
        }
      ]
    },
    {
      "cell_type": "code",
      "source": [
        "accuracy_score(Y_test, prediction)"
      ],
      "metadata": {
        "colab": {
          "base_uri": "https://localhost:8080/"
        },
        "id": "BNIMd82DQ9ms",
        "outputId": "cda48c25-5659-4d49-c95e-1f84cd514ec3"
      },
      "execution_count": null,
      "outputs": [
        {
          "output_type": "execute_result",
          "data": {
            "text/plain": [
              "0.8305084745762712"
            ]
          },
          "metadata": {},
          "execution_count": 1527
        }
      ]
    },
    {
      "cell_type": "code",
      "source": [
        "X_with_weight, Y = downlowad_data(path, categorical_list)"
      ],
      "metadata": {
        "id": "mj2yla5YRW1A"
      },
      "execution_count": null,
      "outputs": []
    },
    {
      "cell_type": "code",
      "source": [],
      "metadata": {
        "id": "N9-Q-fXgsMYK"
      },
      "execution_count": null,
      "outputs": []
    },
    {
      "cell_type": "code",
      "source": [
        "# Podzial danych na train i test\n",
        "X_train_w, X_test_w, Y_train_w, Y_test_w = train_test_split(X_with_weight, Y, test_size=0.2, random_state=42)\n",
        "\n",
        "scaler = MinMaxScaler()\n",
        "\n",
        "X_train_w = scaler.fit_transform(X_train_w)\n",
        "X_test_w = scaler.transform(X_test_w)"
      ],
      "metadata": {
        "id": "fou7wU4xRwmA"
      },
      "execution_count": null,
      "outputs": []
    },
    {
      "cell_type": "code",
      "source": [
        "# urzycie naiwnego bayessa\n",
        "\n",
        "clf = MultinomialNB()\n",
        "clf.fit(X_train_w, Y_train_w)\n",
        "\n",
        "prediction_proba_w = clf.predict_proba(X_test_w)\n",
        "prediction_proba_w[:5]"
      ],
      "metadata": {
        "colab": {
          "base_uri": "https://localhost:8080/"
        },
        "id": "tSoecBlTTDvZ",
        "outputId": "be074d99-1968-4b64-9eab-b39ad0d6b43a"
      },
      "execution_count": null,
      "outputs": [
        {
          "output_type": "execute_result",
          "data": {
            "text/plain": [
              "array([[0.91004748, 0.08995252],\n",
              "       [0.08461255, 0.91538745],\n",
              "       [0.9835034 , 0.0164966 ],\n",
              "       [0.3018246 , 0.6981754 ],\n",
              "       [0.98722589, 0.01277411]])"
            ]
          },
          "metadata": {},
          "execution_count": 1530
        }
      ]
    },
    {
      "cell_type": "code",
      "source": [
        "prediction = clf.predict(X_test_w)\n",
        "prediction[:5]"
      ],
      "metadata": {
        "colab": {
          "base_uri": "https://localhost:8080/"
        },
        "id": "k_FADxR3TngA",
        "outputId": "308bcbf8-93b4-4804-fcc5-e2b5a356b235"
      },
      "execution_count": null,
      "outputs": [
        {
          "output_type": "execute_result",
          "data": {
            "text/plain": [
              "array([0, 1, 0, 1, 0])"
            ]
          },
          "metadata": {},
          "execution_count": 1531
        }
      ]
    },
    {
      "cell_type": "code",
      "source": [
        "acc_w = clf.score(X_test_w, Y_test_w)\n",
        "print(f\"Dokładnosc modelu {acc_w*100:.1f}%\")"
      ],
      "metadata": {
        "colab": {
          "base_uri": "https://localhost:8080/"
        },
        "id": "z8l99e9HTx_l",
        "outputId": "3e149326-b4fd-4371-9560-0980ce040102"
      },
      "execution_count": null,
      "outputs": [
        {
          "output_type": "stream",
          "name": "stdout",
          "text": [
            "Dokładnosc modelu 83.1%\n"
          ]
        }
      ]
    },
    {
      "cell_type": "code",
      "source": [
        "# maciuerz bledu\n",
        "print(confusion_matrix(Y_test_w, prediction))"
      ],
      "metadata": {
        "colab": {
          "base_uri": "https://localhost:8080/"
        },
        "id": "RD4bp_d8Wf2z",
        "outputId": "4d4bdb47-b3fe-4114-81bd-1894706c92f6"
      },
      "execution_count": null,
      "outputs": [
        {
          "output_type": "stream",
          "name": "stdout",
          "text": [
            "[[34  7]\n",
            " [ 3 15]]\n"
          ]
        }
      ]
    },
    {
      "cell_type": "code",
      "source": [
        "print(classification_report(Y_test_w, prediction))"
      ],
      "metadata": {
        "colab": {
          "base_uri": "https://localhost:8080/"
        },
        "id": "cVNwmZdfWrtP",
        "outputId": "aa3035e0-595b-4b4e-ef43-159fee831843"
      },
      "execution_count": null,
      "outputs": [
        {
          "output_type": "stream",
          "name": "stdout",
          "text": [
            "              precision    recall  f1-score   support\n",
            "\n",
            "           0       0.92      0.83      0.87        41\n",
            "           1       0.68      0.83      0.75        18\n",
            "\n",
            "    accuracy                           0.83        59\n",
            "   macro avg       0.80      0.83      0.81        59\n",
            "weighted avg       0.85      0.83      0.83        59\n",
            "\n"
          ]
        }
      ]
    },
    {
      "cell_type": "code",
      "source": [
        "true_pos_rate, false_pos_rate = ROC_graph(Y_true=Y_test_w,\n",
        "                                          prediction_prob=prediction_proba)"
      ],
      "metadata": {
        "id": "eOng4C74W8ez"
      },
      "execution_count": null,
      "outputs": []
    },
    {
      "cell_type": "code",
      "source": [
        "# rysiwanie wykresu ROC\n",
        "import matplotlib.pyplot as plt\n",
        "plt.figure()\n",
        "lw = 2\n",
        "plt.plot(false_pos_rate, true_pos_rate, color='darkorange', lw=lw)\n",
        "plt.plot([0, 1], [0, 1], color='navy', linestyle='--')\n",
        "plt.xlabel(\"Odsetek przypadow falszywie pozytywnych\")\n",
        "plt.ylabel(\"Odsetek przypadkow prawdziwie pozytywnych\")\n",
        "plt.title(\"Krzywa ROC\")\n",
        "plt.grid(True)\n",
        "plt.show()"
      ],
      "metadata": {
        "colab": {
          "base_uri": "https://localhost:8080/",
          "height": 472
        },
        "id": "u6z5bS-wW5F5",
        "outputId": "9ba71c44-6d65-487a-99d4-26879bf5e7b4"
      },
      "execution_count": null,
      "outputs": [
        {
          "output_type": "display_data",
          "data": {
            "text/plain": [
              "<Figure size 640x480 with 1 Axes>"
            ],
            "image/png": "[encoded data removed]"
          },
          "metadata": {}
        }
      ]
    },
    {
      "cell_type": "code",
      "source": [
        "### Siec neuronowa\n",
        "import torch\n",
        "from torch import nn\n",
        "\n",
        "class Model_heart_diseases(nn.Module):\n",
        "  def __init__(self, input_shape: int,\n",
        "                     hidden_unit: int,\n",
        "                     output_shape: int):\n",
        "    super().__init__()\n",
        "    self.block_1 = nn.Sequential(\n",
        "                   nn.Linear(in_features=input_shape,\n",
        "                             out_features=2*hidden_unit),\n",
        "                   nn.ReLU(),\n",
        "                   nn.Linear(in_features=2*hidden_unit,\n",
        "                             out_features=4*hidden_unit),\n",
        "                   nn.ReLU(),\n",
        "                   nn.Linear(in_features=4*hidden_unit,\n",
        "                             out_features=output_shape),\n",
        "                   nn.LeakyReLU(),\n",
        "                   #nn.Dropout(0.1)\n",
        "    )\n",
        "\n",
        "  def forward(self, x:torch.Tensor) -> torch.Tensor:\n",
        "    return self.block_1(x)"
      ],
      "metadata": {
        "id": "_Hamc3t0XC-d"
      },
      "execution_count": null,
      "outputs": []
    },
    {
      "cell_type": "code",
      "source": [
        "X_train.shape"
      ],
      "metadata": {
        "colab": {
          "base_uri": "https://localhost:8080/"
        },
        "id": "bGrkp1XcYsp3",
        "outputId": "3735123d-2312-4ba6-e69c-595afada3ddc"
      },
      "execution_count": null,
      "outputs": [
        {
          "output_type": "execute_result",
          "data": {
            "text/plain": [
              "(234, 53)"
            ]
          },
          "metadata": {},
          "execution_count": 1538
        }
      ]
    },
    {
      "cell_type": "code",
      "source": [
        "torch.manual_seed(42)\n",
        "Model0 = Model_heart_diseases(X_train.shape[1], 200, 2)"
      ],
      "metadata": {
        "id": "nQUmcyIiYltj"
      },
      "execution_count": null,
      "outputs": []
    },
    {
      "cell_type": "code",
      "source": [
        "optimizer = torch.optim.Adam(params=Model0.parameters(),\n",
        "                             lr = 0.01)\n",
        "\n",
        "loss_fn = nn.CrossEntropyLoss()\n"
      ],
      "metadata": {
        "id": "7USRghbFX66v"
      },
      "execution_count": null,
      "outputs": []
    },
    {
      "cell_type": "code",
      "source": [
        "X_train = torch.tensor(X_train).float()\n",
        "X_test = torch.tensor(X_test).float()\n",
        "Y_train = torch.tensor(Y_train.values).long()\n",
        "Y_test = torch.tensor(Y_test.values).long()\n",
        "\n",
        "len(X_train), len(X_test), len(Y_train), len(Y_test)\n"
      ],
      "metadata": {
        "colab": {
          "base_uri": "https://localhost:8080/"
        },
        "id": "g6g4lYoGZiuC",
        "outputId": "ad969c5d-a8bb-4d0f-9fa3-da804168d196"
      },
      "execution_count": null,
      "outputs": [
        {
          "output_type": "execute_result",
          "data": {
            "text/plain": [
              "(234, 59, 234, 59)"
            ]
          },
          "metadata": {},
          "execution_count": 1541
        }
      ]
    },
    {
      "cell_type": "code",
      "source": [
        "torch.manual_seed(42)\n",
        "Model1 = Model_heart_diseases(X_train.shape[1], 100, 2)\n",
        "\n",
        "optimizer_1 = torch.optim.Adam(params=Model1.parameters(),\n",
        "                             lr = 0.01)\n",
        "\n",
        "loss_fn = nn.CrossEntropyLoss()\n",
        "\n",
        "max_test = 0\n",
        "losses = []\n",
        "best_params = Model1.state_dict()\n",
        "for epoch in range(1, 50):\n",
        "    optimizer_1.zero_grad()\n",
        "    outputs = Model1(X_train)\n",
        "    loss = loss_fn(outputs, Y_train)\n",
        "    loss.backward()\n",
        "    optimizer_1.step()\n",
        "    losses.append(loss.item())\n",
        "    _, preds_y = torch.max(outputs, 1)\n",
        "    train_acc = accuracy_score(Y_train, preds_y)\n",
        "\n",
        "    pred_test = Model1(X_test)\n",
        "    _, preds_test_y = torch.max(pred_test, 1)\n",
        "    test_acc = accuracy_score(Y_test, preds_test_y)\n",
        "    print(\"Epoch {}, Loss: {}, Acc:{:.2f}%, Test Acc: {:.2f}%\".format(epoch, loss.item(),\n",
        "                                                                      train_acc*100, test_acc * 100))\n",
        "    if test_acc > max_test:\n",
        "        max_test = test_acc\n",
        "        best_params = Model1.state_dict()\n",
        "Model1.load_state_dict(best_params)\n"
      ],
      "metadata": {
        "colab": {
          "base_uri": "https://localhost:8080/"
        },
        "id": "zXeCy3XvkHko",
        "outputId": "2ae5e7f9-f2d2-4d9c-f3e2-42d35dc87f22"
      },
      "execution_count": null,
      "outputs": [
        {
          "output_type": "stream",
          "name": "stdout",
          "text": [
            "Epoch 1, Loss: 0.6879039406776428, Acc:62.39%, Test Acc: 69.49%\n",
            "Epoch 2, Loss: 0.6001794338226318, Acc:62.39%, Test Acc: 89.83%\n",
            "Epoch 3, Loss: 0.5044329762458801, Acc:79.06%, Test Acc: 84.75%\n",
            "Epoch 4, Loss: 0.41855838894844055, Acc:85.04%, Test Acc: 84.75%\n",
            "Epoch 5, Loss: 0.37321197986602783, Acc:83.33%, Test Acc: 86.44%\n",
            "Epoch 6, Loss: 0.3415115177631378, Acc:87.18%, Test Acc: 86.44%\n",
            "Epoch 7, Loss: 0.3024540841579437, Acc:87.18%, Test Acc: 84.75%\n",
            "Epoch 8, Loss: 0.2608329951763153, Acc:90.17%, Test Acc: 83.05%\n",
            "Epoch 9, Loss: 0.23473532497882843, Acc:90.17%, Test Acc: 81.36%\n",
            "Epoch 10, Loss: 0.2186037302017212, Acc:90.17%, Test Acc: 77.97%\n",
            "Epoch 11, Loss: 0.20089322328567505, Acc:91.45%, Test Acc: 79.66%\n",
            "Epoch 12, Loss: 0.17941857874393463, Acc:93.16%, Test Acc: 81.36%\n",
            "Epoch 13, Loss: 0.1657906174659729, Acc:91.88%, Test Acc: 83.05%\n",
            "Epoch 14, Loss: 0.1568221002817154, Acc:92.74%, Test Acc: 83.05%\n",
            "Epoch 15, Loss: 0.1434294432401657, Acc:92.74%, Test Acc: 79.66%\n",
            "Epoch 16, Loss: 0.1341410130262375, Acc:93.16%, Test Acc: 76.27%\n",
            "Epoch 17, Loss: 0.12872473895549774, Acc:93.16%, Test Acc: 77.97%\n",
            "Epoch 18, Loss: 0.12341520190238953, Acc:93.59%, Test Acc: 77.97%\n",
            "Epoch 19, Loss: 0.12048004567623138, Acc:93.59%, Test Acc: 77.97%\n",
            "Epoch 20, Loss: 0.11734148114919662, Acc:93.16%, Test Acc: 76.27%\n",
            "Epoch 21, Loss: 0.11322514712810516, Acc:93.59%, Test Acc: 76.27%\n",
            "Epoch 22, Loss: 0.10937715321779251, Acc:94.02%, Test Acc: 76.27%\n",
            "Epoch 23, Loss: 0.1076684221625328, Acc:94.02%, Test Acc: 74.58%\n",
            "Epoch 24, Loss: 0.10823459923267365, Acc:93.59%, Test Acc: 76.27%\n",
            "Epoch 25, Loss: 0.11202776432037354, Acc:93.59%, Test Acc: 76.27%\n",
            "Epoch 26, Loss: 0.11149848252534866, Acc:93.59%, Test Acc: 77.97%\n",
            "Epoch 27, Loss: 0.1041695773601532, Acc:94.02%, Test Acc: 77.97%\n",
            "Epoch 28, Loss: 0.10522045940160751, Acc:93.59%, Test Acc: 76.27%\n",
            "Epoch 29, Loss: 0.10949854552745819, Acc:93.16%, Test Acc: 77.97%\n",
            "Epoch 30, Loss: 0.10595111548900604, Acc:94.02%, Test Acc: 76.27%\n",
            "Epoch 31, Loss: 0.10354925692081451, Acc:94.02%, Test Acc: 76.27%\n",
            "Epoch 32, Loss: 0.10587432980537415, Acc:94.02%, Test Acc: 76.27%\n",
            "Epoch 33, Loss: 0.10375106334686279, Acc:93.59%, Test Acc: 77.97%\n",
            "Epoch 34, Loss: 0.10293038189411163, Acc:94.02%, Test Acc: 74.58%\n",
            "Epoch 35, Loss: 0.103609599173069, Acc:94.02%, Test Acc: 77.97%\n",
            "Epoch 36, Loss: 0.10317438095808029, Acc:94.02%, Test Acc: 77.97%\n",
            "Epoch 37, Loss: 0.10282349586486816, Acc:94.02%, Test Acc: 76.27%\n",
            "Epoch 38, Loss: 0.10287576168775558, Acc:94.02%, Test Acc: 76.27%\n",
            "Epoch 39, Loss: 0.10233349353075027, Acc:94.02%, Test Acc: 76.27%\n",
            "Epoch 40, Loss: 0.10221794247627258, Acc:94.02%, Test Acc: 74.58%\n",
            "Epoch 41, Loss: 0.10243360698223114, Acc:94.02%, Test Acc: 74.58%\n",
            "Epoch 42, Loss: 0.10202907025814056, Acc:94.02%, Test Acc: 74.58%\n",
            "Epoch 43, Loss: 0.10212957113981247, Acc:94.02%, Test Acc: 71.19%\n",
            "Epoch 44, Loss: 0.10206030309200287, Acc:94.02%, Test Acc: 72.88%\n",
            "Epoch 45, Loss: 0.10161423683166504, Acc:94.02%, Test Acc: 76.27%\n",
            "Epoch 46, Loss: 0.10191192477941513, Acc:94.02%, Test Acc: 76.27%\n",
            "Epoch 47, Loss: 0.10190089046955109, Acc:94.02%, Test Acc: 76.27%\n",
            "Epoch 48, Loss: 0.10144554823637009, Acc:94.02%, Test Acc: 76.27%\n",
            "Epoch 49, Loss: 0.1018073633313179, Acc:94.02%, Test Acc: 71.19%\n"
          ]
        },
        {
          "output_type": "execute_result",
          "data": {
            "text/plain": [
              "<All keys matched successfully>"
            ]
          },
          "metadata": {},
          "execution_count": 1542
        }
      ]
    },
    {
      "cell_type": "code",
      "source": [
        "plt.plot(losses)"
      ],
      "metadata": {
        "colab": {
          "base_uri": "https://localhost:8080/",
          "height": 447
        },
        "id": "jd3JUtX6nDCz",
        "outputId": "3986add1-f853-48fc-828c-ebe7e8b42824"
      },
      "execution_count": null,
      "outputs": [
        {
          "output_type": "execute_result",
          "data": {
            "text/plain": [
              "[<matplotlib.lines.Line2D at 0x7f9c59f80610>]"
            ]
          },
          "metadata": {},
          "execution_count": 1543
        },
        {
          "output_type": "display_data",
          "data": {
            "text/plain": [
              "<Figure size 640x480 with 1 Axes>"
            ],
            "image/png": "[encoded data removed]"
          },
          "metadata": {}
        }
      ]
    },
    {
      "cell_type": "code",
      "source": [
        "\n",
        "epochs = 20\n",
        "losses = []\n",
        "max_test = 0\n",
        "\n",
        "for epoch in range(epochs):\n",
        "    ### trenowanie\n",
        "    Model0.train()\n",
        "\n",
        "    pred_logits = Model0(X_train).squeeze(dim=1)\n",
        "    pred = torch.argmax(pred_logits, dim=1)  # Zmiana: Użyj torch.argmax\n",
        "\n",
        "    loss = loss_fn(pred_logits, Y_train)\n",
        "    losses.append(loss.item())\n",
        "    acc = accuracy_score(Y_train, pred)\n",
        "\n",
        "    optimizer.zero_grad()\n",
        "    loss.backward()\n",
        "    optimizer.step()\n",
        "\n",
        "    # Walidacja\n",
        "    Model0.eval()\n",
        "    with torch.no_grad():\n",
        "        test_logits = Model0(X_test).squeeze(dim=1)\n",
        "        test_pred = torch.argmax(test_logits, dim=1)\n",
        "\n",
        "        test_loss = loss_fn(test_logits, Y_test)\n",
        "        test_acc = accuracy_score(Y_test, test_pred)\n",
        "\n",
        "        if test_acc > max_test:\n",
        "            max_test = test_acc\n",
        "            best_params = Model0.state_dict()\n",
        "\n",
        "    if epoch % 1 == 0:\n",
        "        print(f\"epoch: {epoch} | loss: {loss:.5f} | test_loss: {test_loss:.5f} | accuracy: {acc*100:.2f}% | test_accuracy: {test_acc*100:.2f}%\")\n",
        "Model1.load_state_dict(best_params)"
      ],
      "metadata": {
        "colab": {
          "base_uri": "https://localhost:8080/"
        },
        "id": "wWRbQwanZ6wu",
        "outputId": "f3ad7dec-a8a4-492f-ea38-02848c324ea5"
      },
      "execution_count": null,
      "outputs": [
        {
          "output_type": "stream",
          "name": "stdout",
          "text": [
            "epoch: 0 | loss: 0.69349 | test_loss: 0.56544 | accuracy: 37.61% | test_accuracy: 69.49%\n",
            "epoch: 1 | loss: 0.60693 | test_loss: 0.37051 | accuracy: 62.39% | test_accuracy: 72.88%\n",
            "epoch: 2 | loss: 0.50775 | test_loss: 0.48970 | accuracy: 69.23% | test_accuracy: 83.05%\n",
            "epoch: 3 | loss: 0.50890 | test_loss: 0.31777 | accuracy: 85.47% | test_accuracy: 88.14%\n",
            "epoch: 4 | loss: 0.36540 | test_loss: 0.35727 | accuracy: 82.48% | test_accuracy: 84.75%\n",
            "epoch: 5 | loss: 0.37979 | test_loss: 0.31872 | accuracy: 83.33% | test_accuracy: 84.75%\n",
            "epoch: 6 | loss: 0.34359 | test_loss: 0.33345 | accuracy: 84.62% | test_accuracy: 86.44%\n",
            "epoch: 7 | loss: 0.29796 | test_loss: 0.36821 | accuracy: 86.75% | test_accuracy: 83.05%\n",
            "epoch: 8 | loss: 0.26197 | test_loss: 0.40694 | accuracy: 87.61% | test_accuracy: 83.05%\n",
            "epoch: 9 | loss: 0.25704 | test_loss: 0.41227 | accuracy: 87.61% | test_accuracy: 81.36%\n",
            "epoch: 10 | loss: 0.24486 | test_loss: 0.41520 | accuracy: 88.89% | test_accuracy: 81.36%\n",
            "epoch: 11 | loss: 0.21894 | test_loss: 0.43134 | accuracy: 90.17% | test_accuracy: 79.66%\n",
            "epoch: 12 | loss: 0.20184 | test_loss: 0.46602 | accuracy: 90.60% | test_accuracy: 79.66%\n",
            "epoch: 13 | loss: 0.18108 | test_loss: 0.50911 | accuracy: 90.60% | test_accuracy: 79.66%\n",
            "epoch: 14 | loss: 0.17075 | test_loss: 0.56011 | accuracy: 91.03% | test_accuracy: 81.36%\n",
            "epoch: 15 | loss: 0.15835 | test_loss: 0.60788 | accuracy: 90.60% | test_accuracy: 81.36%\n",
            "epoch: 16 | loss: 0.14296 | test_loss: 0.66198 | accuracy: 91.45% | test_accuracy: 79.66%\n",
            "epoch: 17 | loss: 0.13485 | test_loss: 0.73258 | accuracy: 92.31% | test_accuracy: 79.66%\n",
            "epoch: 18 | loss: 0.12653 | test_loss: 0.81028 | accuracy: 93.16% | test_accuracy: 79.66%\n",
            "epoch: 19 | loss: 0.11907 | test_loss: 0.90209 | accuracy: 93.59% | test_accuracy: 79.66%\n"
          ]
        }
      ]
    },
    {
      "cell_type": "code",
      "source": [
        "plt.plot(losses)"
      ],
      "metadata": {
        "colab": {
          "base_uri": "https://localhost:8080/",
          "height": 447
        },
        "id": "pKhfyYZjnIt2",
        "outputId": "70f11de9-c9dc-4878-905b-f0b308e8ac1c"
      },
      "execution_count": null,
      "outputs": [
        {
          "output_type": "execute_result",
          "data": {
            "text/plain": [
              "[<matplotlib.lines.Line2D at 0x7f9c59ff2da0>]"
            ]
          },
          "metadata": {},
          "execution_count": 1545
        },
        {
          "output_type": "display_data",
          "data": {
            "text/plain": [
              "<Figure size 640x480 with 1 Axes>"
            ],
            "image/png": "[encoded data removed]"
          },
          "metadata": {}
        }
      ]
    }
  ]
}