{
  "nbformat": 4,
  "nbformat_minor": 0,
  "metadata": {
    "colab": {
      "provenance": []
    },
    "kernelspec": {
      "name": "python3",
      "display_name": "Python 3"
    },
    "language_info": {
      "name": "python"
    }
  },
  "cells": [
    {
      "cell_type": "code",
      "execution_count": null,
      "metadata": {
        "id": "i7uIYXji_zeN"
      },
      "outputs": [],
      "source": [
        "import numpy as np\n",
        "X_train = np.array([[0, 1, 0],\n",
        "                    [0, 0, 1],\n",
        "                    [1, 1, 0],\n",
        "                    [1, 1, 0]])\n",
        "\n",
        "Y_train = ['Y', 'N', 'Y', 'Y']\n",
        "X_test = np.array([[1, 1, 0]])"
      ]
    },
    {
      "cell_type": "code",
      "source": [
        "# Prawdopodobieństwo a priori\n",
        "def get_label_indices(labels):\n",
        "  \"\"\"\n",
        "  Grupowanie próbek na podstawie ich etykiet i zwrocenie indeksow\n",
        "  @ param lables: lista etykiet\n",
        "  @ return: słownik, {klasa1: [indesky], klasa2: [indeksy]}\n",
        "  \"\"\"\n",
        "  from collections import defaultdict\n",
        "  label_indices = defaultdict(list)\n",
        "  for index, label in enumerate(labels):\n",
        "    label_indices[label].append(index)\n",
        "  return label_indices"
      ],
      "metadata": {
        "id": "C3XrT0DtEBcO"
      },
      "execution_count": null,
      "outputs": []
    },
    {
      "cell_type": "code",
      "source": [
        "# Test\n",
        "label_indices = get_label_indices(Y_train)\n",
        "label_indices"
      ],
      "metadata": {
        "colab": {
          "base_uri": "https://localhost:8080/"
        },
        "id": "MyMCIU_IEHLL",
        "outputId": "4121b45c-70c4-4a5d-8108-916e6fbf816c"
      },
      "execution_count": null,
      "outputs": [
        {
          "output_type": "execute_result",
          "data": {
            "text/plain": [
              "defaultdict(list, {'Y': [0, 2, 3], 'N': [1]})"
            ]
          },
          "metadata": {},
          "execution_count": 83
        }
      ]
    },
    {
      "cell_type": "code",
      "source": [
        "def get_prior(label_indices, show=False):\n",
        "  \"\"\"\n",
        "  Wyliczamy prawdopodobieństwo a priori na podstawie próbek treningowych\n",
        "  @ param label_indices: indeksy próbek pogrupowanych wedlug klas\n",
        "  @ return: słownik, w ktorym jest etykieta klasy, a wartoscią\n",
        "            odpowiednir prawdpodobiensw]two a priori\n",
        "  \"\"\"\n",
        "  prior = {label: len(indices) for label, indices in label_indices.items()}\n",
        "\n",
        "  if show:\n",
        "    for label, indices_count in prior.items():\n",
        "      print(f\"klasa: {label}, ilosc probek {indices_count}\")\n",
        "\n",
        "  total_count = sum(prior.values())\n",
        "  for label in prior:\n",
        "    prior[label] /= total_count\n",
        "  return prior"
      ],
      "metadata": {
        "id": "0X2X_-vVKxqC"
      },
      "execution_count": null,
      "outputs": []
    },
    {
      "cell_type": "code",
      "source": [
        "# Test\n",
        "prior = get_prior(label_indices, True)\n",
        "prior"
      ],
      "metadata": {
        "colab": {
          "base_uri": "https://localhost:8080/"
        },
        "id": "rP-8e8bgMbxm",
        "outputId": "af088572-beff-48c9-ee72-536f715660c6"
      },
      "execution_count": null,
      "outputs": [
        {
          "output_type": "stream",
          "name": "stdout",
          "text": [
            "klasa: Y, ilosc probek 3\n",
            "klasa: N, ilosc probek 1\n"
          ]
        },
        {
          "output_type": "execute_result",
          "data": {
            "text/plain": [
              "{'Y': 0.75, 'N': 0.25}"
            ]
          },
          "metadata": {},
          "execution_count": 85
        }
      ]
    },
    {
      "cell_type": "code",
      "source": [
        "# Prawdpodobienstwo P(cecha | klasa)\n",
        "def get_likelihood(features, label_indices, smooothing=0):\n",
        "  \"\"\"\n",
        "  Wyliczamy szanse na podstawie próbek treningowych\n",
        "  @ param features: macierz cech\n",
        "  @ param label_indices: indeksy probek pogrupowanych wg klas\n",
        "  @ return: slowknik krorego kluczem jest kalsa a wartoscia wektor\n",
        "            prawdopodobienstwa warunkoweg P(cecha | klasa)\n",
        "  \"\"\"\n",
        "  likelihood = {}\n",
        "  for label, indices in label_indices.items():\n",
        "    print(features[indices, :])\n",
        "    likelihood[label] = features[indices, :].sum(axis=0) + smooothing\n",
        "    total_count = len(indices)\n",
        "    likelihood[label] = likelihood[label] / (total_count + 2)*smooothing\n",
        "\n",
        "  return likelihood"
      ],
      "metadata": {
        "id": "aPcVmDOQN7-f"
      },
      "execution_count": null,
      "outputs": []
    },
    {
      "cell_type": "code",
      "source": [
        "# Test\n",
        "smooothing = 1\n",
        "\n",
        "likelihood = get_likelihood(features=X_train,\n",
        "                            label_indices=label_indices,\n",
        "                            smooothing=smooothing)\n",
        "likelihood"
      ],
      "metadata": {
        "colab": {
          "base_uri": "https://localhost:8080/"
        },
        "id": "swcudgc-1c0F",
        "outputId": "241e449e-d62e-435d-ecc0-409bf8702f43"
      },
      "execution_count": null,
      "outputs": [
        {
          "output_type": "stream",
          "name": "stdout",
          "text": [
            "[[0 1 0]\n",
            " [1 1 0]\n",
            " [1 1 0]]\n",
            "[[0 0 1]]\n"
          ]
        },
        {
          "output_type": "execute_result",
          "data": {
            "text/plain": [
              "{'Y': array([0.6, 0.8, 0.2]), 'N': array([0.33333333, 0.33333333, 0.66666667])}"
            ]
          },
          "metadata": {},
          "execution_count": 87
        }
      ]
    },
    {
      "cell_type": "code",
      "source": [
        "# Prawdopodobienstwo a posterio\n",
        "def get_posterior(X, prior, likelihood):\n",
        "  \"\"\"\n",
        "  Wyliczanie prawdopodobienstwo a posteriori na podstawie a priori i szansy\n",
        "  @ param X: próbki treningowe\n",
        "  @ params prior: słownik, w ktorym kluczem jest etykieta klasy, a wartoscia\n",
        "                  odpowiednie prawdopodbinstwova posteriori\n",
        "  @ return: Słownik, w ktorym kluczem jest etykieta klasy, a wartoscia odpowiednie prawdopodbineisto a posteriori\n",
        "  \"\"\"\n",
        "  posteriors = []\n",
        "  for x in X:\n",
        "    # A posteriori jest proporcjonalne do a priori*szansa\n",
        "    posterior = prior.copy()\n",
        "    for label, likelihood_label in likelihood.items():\n",
        "      for index, bool_value in enumerate(x):\n",
        "        posterior[label] *= likelihood_label[index] if bool_value else (1 - likelihood_label[index])\n",
        "    # Normalizacja aby wszysko sumowalo sie do 1\n",
        "    sum_posterior = sum(posterior.values())\n",
        "\n",
        "    for label in posterior:\n",
        "      if posterior[label] == float('inf'):\n",
        "        posterior[label] = 1\n",
        "      else:\n",
        "        posterior[label] /= sum_posterior\n",
        "\n",
        "    posteriors.append(posterior.copy())\n",
        "  return posteriors\n"
      ],
      "metadata": {
        "id": "4NBs5QPfA8p1"
      },
      "execution_count": null,
      "outputs": []
    },
    {
      "cell_type": "code",
      "source": [
        "# Test\n",
        "posteriors = get_posterior(X_test, prior, likelihood)\n",
        "posteriors"
      ],
      "metadata": {
        "colab": {
          "base_uri": "https://localhost:8080/"
        },
        "id": "sQ4rvHd_FH-E",
        "outputId": "e27aa238-5008-45c3-99ab-d98c8c3031c9"
      },
      "execution_count": null,
      "outputs": [
        {
          "output_type": "execute_result",
          "data": {
            "text/plain": [
              "[{'Y': 0.9688512334911538, 'N': 0.031148766508846258}]"
            ]
          },
          "metadata": {},
          "execution_count": 89
        }
      ]
    },
    {
      "cell_type": "markdown",
      "source": [
        "### Wykozyskie pakietu sklearn\n"
      ],
      "metadata": {
        "id": "wjiL-iAGFy88"
      }
    },
    {
      "cell_type": "code",
      "source": [
        "from sklearn.naive_bayes import BernoulliNB"
      ],
      "metadata": {
        "id": "SYAFmTzFFyQK"
      },
      "execution_count": null,
      "outputs": []
    },
    {
      "cell_type": "code",
      "source": [
        "# Inicjalizacja modelu (alpha, fit_prior) -> (wspolczynik wygladzenia, uzycie prawdopodobiensa a prior)\n",
        "clf = BernoulliNB(alpha=1.0, fit_prior=True)\n",
        "# Wykorzystanie metody fit do uczenia\n",
        "clf.fit(X_train, Y_train)\n",
        "# Wyiczenie prawdopodobiensta  wykozystujac metode perdict_proba\n",
        "perd_prob = clf.predict_proba(X_test)\n",
        "perd_prob"
      ],
      "metadata": {
        "colab": {
          "base_uri": "https://localhost:8080/"
        },
        "id": "5aM5pp9VGX-G",
        "outputId": "f3ba5ae2-787a-4172-8301-254f618aa3a3"
      },
      "execution_count": null,
      "outputs": [
        {
          "output_type": "execute_result",
          "data": {
            "text/plain": [
              "array([[0.03114877, 0.96885123]])"
            ]
          },
          "metadata": {},
          "execution_count": 91
        }
      ]
    },
    {
      "cell_type": "code",
      "source": [
        "from pathlib import Path\n",
        "import requests\n",
        "import io\n",
        "import zipfile\n",
        "\n",
        "def data_downloader(url: str, extraction_path: str, zip_: bool):\n",
        "    \"\"\"\n",
        "    Funkcja pobiera i jesli jest potrzeba to ropakowywuje folder\n",
        "    @Param url: link do pobrnaia\n",
        "    @param extraction_path: folder do ktorego jest rozpakowany i pobrany folder\n",
        "    @param zip_: czy plik ma byc pobrany jako zip\n",
        "    @return: zwraca scierze dostepu dpo folderu\n",
        "    \"\"\"\n",
        "    # Tworzenie obiektu ścieżki za pomocą url\n",
        "    if zip_:\n",
        "        extracted_folder_path = Path(extraction_path) / Path(url.split('/')[-1].split('.')[0])\n",
        "    else:\n",
        "        extracted_folder_path = Path(extraction_path) / Path(url.split('/')[-1])\n",
        "\n",
        "    if extracted_folder_path.exists():\n",
        "        print(\"Plik jest już w folderze.\")\n",
        "    else:\n",
        "        # Pobierz zawartość pliku ZIP\n",
        "        response = requests.get(url)\n",
        "        if response.status_code == 200:\n",
        "            # Otwórz plik ZIP z zawartością zwróconą przez żądanie\n",
        "            with zipfile.ZipFile(io.BytesIO(response.content)) as zip_ref:\n",
        "                # Rozpakuj plik ZIP do wybranego folderu\n",
        "                zip_ref.extractall(extraction_path)\n",
        "                print(\"Plik ZIP został pomyślnie pobrany i rozpakowany.\")\n",
        "        else:\n",
        "            print(\"Nie udało się pobrać pliku ZIP\")\n",
        "\n",
        "    return extracted_folder_path"
      ],
      "metadata": {
        "id": "Tt-27APPy231"
      },
      "execution_count": null,
      "outputs": []
    },
    {
      "cell_type": "code",
      "source": [
        "# pobranie danych fiolmow uzutych do tworzenia rekomendacj\n",
        "\n",
        "# Adres URL pliku ZIP do pobrania\n",
        "url = r'https://files.grouplens.org/datasets/movielens/ml-latest-small.zip'\n",
        "\n",
        "path = r'data_sets'\n",
        "\n",
        "data_path = data_downloader(url=url,\n",
        "                extraction_path=path,\n",
        "                zip_=True)\n"
      ],
      "metadata": {
        "colab": {
          "base_uri": "https://localhost:8080/"
        },
        "id": "HXAz07CSzHB_",
        "outputId": "6b608ef4-f04f-429f-f9db-ed7ae2d24bda"
      },
      "execution_count": null,
      "outputs": [
        {
          "output_type": "stream",
          "name": "stdout",
          "text": [
            "Plik jest już w folderze.\n"
          ]
        }
      ]
    },
    {
      "cell_type": "code",
      "source": [
        "from collections import defaultdict\n",
        "import csv\n",
        "### przygotowanie danych (przypisanie nowych indeksow ze wzgledu na to ze brakuje wszyskich danych)\n",
        "file_path_movies = data_path / Path('movies.csv')\n",
        "\n",
        "def add_new_move_id(file_path_movies):\n",
        "    \"\"\"\n",
        "    Funkcja zamienia oryginalne ID filmu na jego indeks w pliku 'movies.csv'\n",
        "    @param file_path_movies: scieżka do pliku csv z zdekodowanymi nazwami filmu\n",
        "    @return słownik, którego kluczem jest stare ID a wartością nowe indeksy\n",
        "    \"\"\"\n",
        "    new_id = {}\n",
        "    with open(file_path_movies, 'r') as file:\n",
        "        csv_reader = csv.reader(file)\n",
        "        next(csv_reader)  # Pominięcie nagłówka\n",
        "        for idx, line in enumerate(csv_reader):\n",
        "            move_id, title, _ = line\n",
        "            new_id[move_id] = idx\n",
        "\n",
        "    return new_id"
      ],
      "metadata": {
        "id": "7hAnjVI60QTJ"
      },
      "execution_count": null,
      "outputs": []
    },
    {
      "cell_type": "code",
      "source": [
        "new_id = add_new_move_id(file_path_movies)\n",
        "print(list(new_id.items())[:3])"
      ],
      "metadata": {
        "colab": {
          "base_uri": "https://localhost:8080/"
        },
        "id": "kxpU_Qqm3tyM",
        "outputId": "d5ad3f05-7242-48dc-f61e-f4fc78f9ff66"
      },
      "execution_count": null,
      "outputs": [
        {
          "output_type": "stream",
          "name": "stdout",
          "text": [
            "[('1', 0), ('2', 1), ('3', 2)]\n"
          ]
        }
      ]
    },
    {
      "cell_type": "code",
      "source": [
        "\n",
        "file_path_rating = data_path / Path('ratings.csv')\n",
        "def create_file_with_new_ID(file_path_rating, new_id, extraction_path):\n",
        "    \"\"\"\n",
        "    Funkcja tworzy nowy plik csv, który jest kopią pliku 'ratings.csv', ale z podmienionymi indeksami\n",
        "    @param file_path_rating: ścieżka do pliku z ocenami filmów\n",
        "    @param new_id: słownik z nowymi indeksami filmów\n",
        "    @param extraction_path: lokalizacja, gdzie ma być umieszczony nowy plik CSV\n",
        "    @return ścieżka do nowego pliku CSV z nowymi indeksami\n",
        "    \"\"\"\n",
        "    new_file_path = extraction_path / Path('ratings_new.csv')\n",
        "    with open(file_path_rating, 'r') as file:\n",
        "        with open(new_file_path, 'w') as new_file:\n",
        "            csv_reader = csv.reader(file)\n",
        "            csv_writer = csv.writer(new_file)\n",
        "            csv_writer.writerow(next(csv_reader))  # Skopiowanie nagłówka\n",
        "            for line in csv_reader:\n",
        "                user_id, move_id, rating, timestamp = line\n",
        "                new_move_id = new_id.get(move_id, move_id)  # Jeśli nowy indeks nie istnieje, zachowaj stary\n",
        "                csv_writer.writerow([user_id, new_move_id, rating, timestamp])\n",
        "\n",
        "    return new_file_path\n"
      ],
      "metadata": {
        "id": "bJuPEA6n7YGA"
      },
      "execution_count": null,
      "outputs": []
    },
    {
      "cell_type": "code",
      "source": [
        "new_file_path = create_file_with_new_ID(file_path_rating=file_path_rating,\n",
        "                                        new_id=new_id,\n",
        "                                        extraction_path=data_path)\n",
        "print(new_file_path)"
      ],
      "metadata": {
        "colab": {
          "base_uri": "https://localhost:8080/"
        },
        "id": "6XV7_zC2C0x9",
        "outputId": "3f94a911-3431-442f-8361-02a3c5160011"
      },
      "execution_count": null,
      "outputs": [
        {
          "output_type": "stream",
          "name": "stdout",
          "text": [
            "data_sets/ml-latest-small/ratings_new.csv\n"
          ]
        }
      ]
    },
    {
      "cell_type": "code",
      "source": [
        "from pathlib import Path\n",
        "file_path = data_path / Path('ratings.csv')\n",
        "\n",
        "# Znalesienie ilości filmow i użytkowników bedacych w danych\n",
        "def load_num_user_move(file_path):\n",
        "    \"\"\"\n",
        "    Funkcja z pliku csv zwraca user_id i move_id o najwikszym indeksie\n",
        "    @params file path: scierzka do pliku\n",
        "    @return najwiekszy indeks dla user_id i move_id\n",
        "    \"\"\"\n",
        "    last_user = 0\n",
        "    last_move = 0\n",
        "    with open(file_path, 'r') as file:\n",
        "        for line in file.readlines()[1:]:\n",
        "            user_id, move_id, _, _ = line.split(',')\n",
        "            user_id, move_id = int(user_id), int(move_id)\n",
        "\n",
        "            if (user_id > last_user):\n",
        "                last_user = user_id\n",
        "\n",
        "            if (move_id > last_move):\n",
        "                last_move = move_id\n",
        "\n",
        "    return last_user, last_move\n",
        "\n",
        "user_id, move_id = load_num_user_move(new_file_path)\n",
        "print(user_id, move_id)"
      ],
      "metadata": {
        "colab": {
          "base_uri": "https://localhost:8080/"
        },
        "id": "0_N2uBqxz7_6",
        "outputId": "49f70275-aeba-4a2a-a7de-fca6b31e6f20"
      },
      "execution_count": null,
      "outputs": [
        {
          "output_type": "stream",
          "name": "stdout",
          "text": [
            "610 9741\n"
          ]
        }
      ]
    },
    {
      "cell_type": "code",
      "source": [
        "def load_rating_data(data_path, n_users, n_movies):\n",
        "    \"\"\"\n",
        "    Odczytanie ocen z pliku i zwrócenie liczby ocen\n",
        "    kazdego filmu wraz z powiazanymi indeksami\n",
        "    @param data_path: scierzka do pliku z ocenami\n",
        "    @param n_users: liczba osob\n",
        "    @param n_moves: liczba ocenionych filmow\n",
        "    @return oceny w tablicy numpy [osoba, film];\n",
        "            move_n_rating, {identyfikator_filmu: indeksy kolumny w tablicy ocen}\n",
        "    \"\"\"\n",
        "    # stgworzneie macierzy o wymairach n_users na n_movies\n",
        "    data = np.zeros([n_users, n_movies], dtype=np.float32)\n",
        "    move_id_mapping = {}\n",
        "    move_n_rating = defaultdict(int)\n",
        "    with open (data_path, 'r') as file:\n",
        "        for line in file.readlines()[1:]:\n",
        "            # Podzial lini na 4 elemntowe listy (pratycnzmie 3 bo jedne jest ignorowany po przez '_')\n",
        "            user_id, move_id, rating, _ = line.split(\",\")\n",
        "            user_id = int(user_id) - 1\n",
        "\n",
        "            # Przypisanie numeru (dlugosci slownika jak numer filmy)\n",
        "            if move_id not in move_id_mapping:\n",
        "                move_id_mapping[move_id] = len(move_id_mapping)\n",
        "\n",
        "            rating = int(float(rating))\n",
        "            # dla uzytkowenika o numerze user_id do filmu bedacego na miesjcu move_id_mapping[move_id]] przypisz rating\n",
        "            data[user_id, move_id_mapping[move_id]] = rating\n",
        "            # filmy i ich ilosc ocen\n",
        "            if rating > 0:\n",
        "                move_n_rating[move_id] += 1\n",
        "\n",
        "    return data, move_n_rating, move_id_mapping"
      ],
      "metadata": {
        "id": "KUBdHcrNzpCJ"
      },
      "execution_count": null,
      "outputs": []
    },
    {
      "cell_type": "code",
      "source": [
        "data, movie_n_rating, move_id_mapping = load_rating_data(data_path=file_path,\n",
        "                                                         n_users=user_id,\n",
        "                                                         n_movies=move_id)\n",
        "print(data)"
      ],
      "metadata": {
        "colab": {
          "base_uri": "https://localhost:8080/"
        },
        "id": "lObnnAPqEQN-",
        "outputId": "fa4a57f1-33bc-4b38-95f6-b19325a6d051"
      },
      "execution_count": null,
      "outputs": [
        {
          "output_type": "stream",
          "name": "stdout",
          "text": [
            "[[4. 4. 4. ... 0. 0. 0.]\n",
            " [0. 0. 0. ... 0. 0. 0.]\n",
            " [0. 0. 0. ... 0. 0. 0.]\n",
            " ...\n",
            " [2. 2. 0. ... 0. 0. 0.]\n",
            " [3. 0. 0. ... 0. 0. 0.]\n",
            " [5. 0. 5. ... 0. 0. 0.]]\n"
          ]
        }
      ]
    },
    {
      "cell_type": "code",
      "source": [
        "# Pokazanie rozklau danych\n",
        "def display_distribution(data):\n",
        "    values, counts = np.unique(data, return_counts=True) # -> values - unikalne wartosci, count - ilosc wystapien powtórzen\n",
        "    for val, count in zip(values, counts):\n",
        "        print(f\"liczba ocen {val}: {count}\")\n",
        "\n",
        "display_distribution(data)"
      ],
      "metadata": {
        "colab": {
          "base_uri": "https://localhost:8080/"
        },
        "id": "S-h_bbEtEcPD",
        "outputId": "ed5ad4b4-8a1b-4a5c-852d-cb9491e708e9"
      },
      "execution_count": null,
      "outputs": [
        {
          "output_type": "stream",
          "name": "stdout",
          "text": [
            "liczba ocen 0.0: 5842544\n",
            "liczba ocen 1.0: 4602\n",
            "liczba ocen 2.0: 13101\n",
            "liczba ocen 3.0: 33183\n",
            "liczba ocen 4.0: 35369\n",
            "liczba ocen 5.0: 13211\n"
          ]
        }
      ]
    },
    {
      "cell_type": "code",
      "source": [
        "# Ze wzgledu na to ze wiekszoc ocen jest nieznana (ocena 0) to wybieramy film ktory jest najszczesciej ocenenainy\n",
        "move_id_most, n_rating_most = sorted(movie_n_rating.items(), key=lambda d: d[1], reverse=False)[-1]\n",
        "print(f\"film o ID {move_id_most} uzyskał: {n_rating_most}\")"
      ],
      "metadata": {
        "colab": {
          "base_uri": "https://localhost:8080/"
        },
        "id": "cbB74mJOE1PP",
        "outputId": "beef2f10-a7b4-4ecb-a1f4-8d9e62313ea4"
      },
      "execution_count": null,
      "outputs": [
        {
          "output_type": "stream",
          "name": "stdout",
          "text": [
            "film o ID 356 uzyskał: 328\n"
          ]
        }
      ]
    },
    {
      "cell_type": "code",
      "source": [
        "X_raw = np.delete(data, move_id_mapping[move_id_most], axis=1) # usuniecie kolumny\n",
        "Y_raw = data[:, move_id_mapping[move_id_most]] # usunieta kolumna"
      ],
      "metadata": {
        "id": "3ORLYVhEF3on"
      },
      "execution_count": null,
      "outputs": []
    },
    {
      "cell_type": "code",
      "source": [
        "# Usniecie probek ktore nie zawiaraja oceny filmow\n",
        "X = X_raw[Y_raw > 0]\n",
        "Y = Y_raw[Y_raw > 0]\n",
        "print(X.shape)\n",
        "print(Y.shape)"
      ],
      "metadata": {
        "colab": {
          "base_uri": "https://localhost:8080/"
        },
        "id": "usdQM9CUIx8u",
        "outputId": "b20aeaa8-ea44-4178-aac4-2b1bec6e69ac"
      },
      "execution_count": null,
      "outputs": [
        {
          "output_type": "stream",
          "name": "stdout",
          "text": [
            "(328, 9740)\n",
            "(328,)\n"
          ]
        }
      ]
    },
    {
      "cell_type": "code",
      "source": [
        "# Sprawdzenie dystrybucji po zmainach\n",
        "display_distribution(Y)"
      ],
      "metadata": {
        "colab": {
          "base_uri": "https://localhost:8080/"
        },
        "id": "_7Zxch51Jjgt",
        "outputId": "c8ae2e4a-630f-47ce-9c18-d1366e991da0"
      },
      "execution_count": null,
      "outputs": [
        {
          "output_type": "stream",
          "name": "stdout",
          "text": [
            "liczba ocen 1.0: 1\n",
            "liczba ocen 2.0: 12\n",
            "liczba ocen 3.0: 66\n",
            "liczba ocen 4.0: 133\n",
            "liczba ocen 5.0: 116\n"
          ]
        }
      ]
    },
    {
      "cell_type": "code",
      "source": [
        "# zakaldmay ze jesli fim jest powyzej 3 to jest godny polecenia\n",
        "recommend = 3\n",
        "Y[Y <= recommend] = 0\n",
        "Y[Y > recommend] = 1\n",
        "\n",
        "n_pos = (Y==1).sum()\n",
        "n_neg = (Y==0).sum()\n",
        "\n",
        "print(f\"liczba pozytywnaych probek: {n_pos}, liczba negatywenych probek: {n_neg}\")"
      ],
      "metadata": {
        "colab": {
          "base_uri": "https://localhost:8080/"
        },
        "id": "DfRWs8HMJ_CZ",
        "outputId": "915e66d0-dcfc-4e59-e23f-4372f516dd10"
      },
      "execution_count": null,
      "outputs": [
        {
          "output_type": "stream",
          "name": "stdout",
          "text": [
            "liczba pozytywnaych probek: 249, liczba negatywenych probek: 79\n"
          ]
        }
      ]
    },
    {
      "cell_type": "code",
      "source": [
        "# Podzial danych na treningowe i testowe\n",
        "from sklearn.model_selection import train_test_split\n",
        "X_train, X_test, Y_train, Y_test = train_test_split(X, Y,\n",
        "                                                    test_size=0.2,\n",
        "                                                    random_state=42)\n",
        "len(Y_train), len(Y_test)"
      ],
      "metadata": {
        "colab": {
          "base_uri": "https://localhost:8080/"
        },
        "id": "lshwE62rM74s",
        "outputId": "67856426-55ff-4f1a-8842-8ab5e059c30b"
      },
      "execution_count": null,
      "outputs": [
        {
          "output_type": "execute_result",
          "data": {
            "text/plain": [
              "(262, 66)"
            ]
          },
          "metadata": {},
          "execution_count": 107
        }
      ]
    },
    {
      "cell_type": "code",
      "source": [
        "# przetrenownaie model\n",
        "from sklearn.naive_bayes import MultinomialNB\n",
        "clf = MultinomialNB(alpha=1.0, fit_prior=True)\n",
        "clf.fit(X_train, Y_train)\n",
        "\n",
        "# Wartosci prawdopodobienstwa\n",
        "predict_proba = clf.predict_proba(X_test)\n",
        "print(predict_proba[:10])"
      ],
      "metadata": {
        "colab": {
          "base_uri": "https://localhost:8080/"
        },
        "id": "go301zkkNksa",
        "outputId": "4f0745e7-220a-4ffe-87bd-f077131bfb91"
      },
      "execution_count": null,
      "outputs": [
        {
          "output_type": "stream",
          "name": "stdout",
          "text": [
            "[[5.85525809e-07 9.99999414e-01]\n",
            " [2.98181639e-10 1.00000000e+00]\n",
            " [1.16858751e-14 1.00000000e+00]\n",
            " [1.63058967e-18 1.00000000e+00]\n",
            " [1.17911276e-14 1.00000000e+00]\n",
            " [5.60244186e-24 1.00000000e+00]\n",
            " [5.09452631e-85 1.00000000e+00]\n",
            " [2.84221744e-61 1.00000000e+00]\n",
            " [8.65150666e-01 1.34849334e-01]\n",
            " [1.00000000e+00 1.15246107e-29]]\n"
          ]
        }
      ]
    },
    {
      "cell_type": "code",
      "source": [
        "# Prognozowanie klasy za pomoca ponizeszego kodu\n",
        "prediction = clf.predict(X_test)\n",
        "print(prediction[:10])"
      ],
      "metadata": {
        "colab": {
          "base_uri": "https://localhost:8080/"
        },
        "id": "_Qk1BUysOnSI",
        "outputId": "a23c9912-145f-4855-a0c9-548eea569dc7"
      },
      "execution_count": null,
      "outputs": [
        {
          "output_type": "stream",
          "name": "stdout",
          "text": [
            "[1. 1. 1. 1. 1. 1. 1. 1. 0. 0.]\n"
          ]
        }
      ]
    },
    {
      "cell_type": "code",
      "source": [
        "# Ocena skutecznisci modelu\n",
        "acc = clf.score(X_test, Y_test)\n",
        "print(f\"Dokladnosc modelu: {acc*100:.1f}%\")"
      ],
      "metadata": {
        "colab": {
          "base_uri": "https://localhost:8080/"
        },
        "id": "NQvrAAzwO3jR",
        "outputId": "13f40dbe-267e-4620-bacc-94852a89b850"
      },
      "execution_count": null,
      "outputs": [
        {
          "output_type": "stream",
          "name": "stdout",
          "text": [
            "Dokladnosc modelu: 69.7%\n"
          ]
        }
      ]
    },
    {
      "cell_type": "code",
      "source": [
        "# Macierz pomyłek\n",
        "from sklearn.metrics import confusion_matrix\n",
        "conf_matrix = confusion_matrix(Y_test, prediction, labels=[0,1])\n",
        "print(conf_matrix) # -> [[prawdziwie negatywne, falszywie pozytywne],\n",
        "                   #     [falszywie negatywne, prawdziwo prawdziwe]]"
      ],
      "metadata": {
        "colab": {
          "base_uri": "https://localhost:8080/"
        },
        "id": "u_Y3Yxm9rfhw",
        "outputId": "e08d2f7c-2daf-4d29-9dec-1abb747a6fa6"
      },
      "execution_count": null,
      "outputs": [
        {
          "output_type": "stream",
          "name": "stdout",
          "text": [
            "[[ 3 13]\n",
            " [ 7 43]]\n"
          ]
        }
      ]
    },
    {
      "cell_type": "code",
      "source": [
        "# Precyzja = PP/(PP+FP)\n",
        "precision = conf_matrix[-1, -1]/(conf_matrix[-1, -1] + conf_matrix[0, 1])\n",
        "precision"
      ],
      "metadata": {
        "colab": {
          "base_uri": "https://localhost:8080/"
        },
        "id": "LGTFdoEus0rh",
        "outputId": "15f01aed-2143-4938-97ad-f5377f9530a8"
      },
      "execution_count": null,
      "outputs": [
        {
          "output_type": "execute_result",
          "data": {
            "text/plain": [
              "0.7678571428571429"
            ]
          },
          "metadata": {},
          "execution_count": 112
        }
      ]
    },
    {
      "cell_type": "code",
      "source": [
        "# rozrzut = PP/(PP+FN)\n",
        "recall = conf_matrix[-1, -1]/(conf_matrix[-1, -1] + conf_matrix[-1, 0])\n",
        "recall"
      ],
      "metadata": {
        "colab": {
          "base_uri": "https://localhost:8080/"
        },
        "id": "q_byH0UGumOu",
        "outputId": "4ccfe12d-ce53-4633-ab32-9d0ef315ffcc"
      },
      "execution_count": null,
      "outputs": [
        {
          "output_type": "execute_result",
          "data": {
            "text/plain": [
              "0.86"
            ]
          },
          "metadata": {},
          "execution_count": 113
        }
      ]
    },
    {
      "cell_type": "code",
      "source": [
        "# ocena f1 = srednia harmoniczna z rozrzutu i z precyzji\n",
        "from statistics import harmonic_mean\n",
        "f1 = harmonic_mean([precision, recall])\n",
        "f1"
      ],
      "metadata": {
        "colab": {
          "base_uri": "https://localhost:8080/"
        },
        "id": "SiV6nRA7u-Om",
        "outputId": "cca5b161-7fc3-4a77-964a-93ecfc5c5a65"
      },
      "execution_count": null,
      "outputs": [
        {
          "output_type": "execute_result",
          "data": {
            "text/plain": [
              "0.8113207547169812"
            ]
          },
          "metadata": {},
          "execution_count": 114
        }
      ]
    },
    {
      "cell_type": "code",
      "source": [
        "from sklearn.metrics import precision_score, recall_score, f1_score\n",
        "precision = precision_score(Y_test, prediction, pos_label=1)\n",
        "print(f\"Precision: {precision}\")\n",
        "recall = recall_score(Y_test, prediction, pos_label=1)\n",
        "print(f\"recall: {recall}\")\n",
        "f1 = f1_score(Y_test, prediction, pos_label=1)\n",
        "print(f\"f1 score: {f1}\")"
      ],
      "metadata": {
        "colab": {
          "base_uri": "https://localhost:8080/"
        },
        "id": "l397XFVCwRJE",
        "outputId": "ec291c0a-fafd-4658-835e-1faf3ac40948"
      },
      "execution_count": null,
      "outputs": [
        {
          "output_type": "stream",
          "name": "stdout",
          "text": [
            "Precision: 0.7678571428571429\n",
            "recall: 0.86\n",
            "f1 score: 0.8113207547169812\n"
          ]
        }
      ]
    },
    {
      "cell_type": "code",
      "source": [
        "# matryca raportu klasyfikacji\n",
        "from sklearn.metrics import classification_report\n",
        "raport = classification_report(Y_test, prediction)\n",
        "print(raport)\n"
      ],
      "metadata": {
        "colab": {
          "base_uri": "https://localhost:8080/"
        },
        "id": "05ax-a0RxPZA",
        "outputId": "25010d3a-946b-4ef7-c4ae-8903a07d0a43"
      },
      "execution_count": null,
      "outputs": [
        {
          "output_type": "stream",
          "name": "stdout",
          "text": [
            "              precision    recall  f1-score   support\n",
            "\n",
            "         0.0       0.30      0.19      0.23        16\n",
            "         1.0       0.77      0.86      0.81        50\n",
            "\n",
            "    accuracy                           0.70        66\n",
            "   macro avg       0.53      0.52      0.52        66\n",
            "weighted avg       0.65      0.70      0.67        66\n",
            "\n"
          ]
        }
      ]
    },
    {
      "cell_type": "markdown",
      "source": [
        "Krzywa ROC to wykres, który przedstawia TPR na osi Y i FPR na osi X dla różnych wartości progów decyzyjnych. Idealny model klasyfikacji będzie miał krzywą ROC, która przechodzi przez punkt (0,1), co oznacza, że ma 100% czułości i 0% FPR dla wszystkich wartości progów. Im bliżej krzywej ROC do lewego górnego rogu, tym lepsza jest wydajność modelu. Krzywa ROC jest używana jako narzędzie do porównywania różnych modeli klasyfikacji oraz do optymalizacji progów decyzyjnych."
      ],
      "metadata": {
        "id": "bfucyrCo2j3y"
      }
    },
    {
      "cell_type": "code",
      "source": [
        "# Krzywa ROC\n",
        "pos_prob = predict_proba[:, 1]\n",
        "thresholds = np.arange(0.0, 1.1, 0.05)\n",
        "true_pos, false_pos = [0]*len(thresholds), [0]*len(thresholds)\n",
        "for y, pred in zip(Y_test, pos_prob):\n",
        "  for i, threshold in enumerate(thresholds):\n",
        "    if pred >= threshold:\n",
        "      # jezeli wynik prognozowany i rzeczywisty jest rowny\n",
        "      if y == 1:\n",
        "        true_pos[i] += 1\n",
        "      # Jezeli wynik rzeczywisty jest rowny 0 a prognozowany rowny 1\n",
        "      else:\n",
        "        false_pos[i] += 1\n",
        "    else:\n",
        "      break\n"
      ],
      "metadata": {
        "id": "hUJC3YGxxPaN"
      },
      "execution_count": null,
      "outputs": []
    },
    {
      "cell_type": "code",
      "source": [
        "n_pos_test = (Y_test==1).sum()\n",
        "n_neg_test = (Y_test==0).sum()\n",
        "\n",
        "true_pos_rate = [tp/n_pos_test for tp in true_pos]\n",
        "false_pos_rate = [fp/n_neg_test for fp in false_pos]"
      ],
      "metadata": {
        "id": "iwdPi9ZV29Ci"
      },
      "execution_count": null,
      "outputs": []
    },
    {
      "cell_type": "code",
      "source": [
        "import matplotlib.pyplot as plt\n",
        "plt.figure()\n",
        "lw = 2\n",
        "plt.plot(false_pos_rate, true_pos_rate, color='darkorange', lw=lw)\n",
        "plt.plot([0, 1], [0, 1], color='navy', linestyle='--')\n",
        "plt.xlabel(\"Odsetek przypadow falszywie pozytywnych\")\n",
        "plt.ylabel(\"Odsetek przypadkow prawdziwie pozytywnych\")\n",
        "plt.title(\"Krzywa ROC\")\n",
        "plt.show()"
      ],
      "metadata": {
        "colab": {
          "base_uri": "https://localhost:8080/",
          "height": 472
        },
        "id": "k9qHNfiR2lrg",
        "outputId": "7e4e426c-4cea-4c57-c2ee-7d477ddd2d24"
      },
      "execution_count": null,
      "outputs": [
        {
          "output_type": "display_data",
          "data": {
            "text/plain": [
              "<Figure size 640x480 with 1 Axes>"
            ],
            "image/png": "[encoded data removed]"
          },
          "metadata": {}
        }
      ]
    },
    {
      "cell_type": "code",
      "source": [
        "# pole pod krzywa ROC\n",
        "from sklearn.metrics import roc_auc_score\n",
        "roc_auc_score(Y_test, pos_prob)"
      ],
      "metadata": {
        "colab": {
          "base_uri": "https://localhost:8080/"
        },
        "id": "O9W66enf42S9",
        "outputId": "706cabce-aeb4-4e1c-d37b-a9d47fd95e75"
      },
      "execution_count": null,
      "outputs": [
        {
          "output_type": "execute_result",
          "data": {
            "text/plain": [
              "0.520625"
            ]
          },
          "metadata": {},
          "execution_count": 120
        }
      ]
    },
    {
      "cell_type": "markdown",
      "source": [
        "### Średno :(\n",
        "  "
      ],
      "metadata": {
        "id": "5p8dyTK-8mMn"
      }
    },
    {
      "cell_type": "code",
      "source": [],
      "metadata": {
        "id": "Mdj9E6uf42U3"
      },
      "execution_count": null,
      "outputs": []
    }
  ]
}